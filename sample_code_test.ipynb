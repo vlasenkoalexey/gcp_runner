{
 "cells": [
  {
   "cell_type": "code",
   "execution_count": null,
   "metadata": {},
   "outputs": [],
   "source": [
    "# default_exp sample_code_test"
   ]
  },
  {
   "cell_type": "code",
   "execution_count": null,
   "metadata": {},
   "outputs": [],
   "source": [
    "#export\n",
    "import time\n",
    "\n",
    "def some_function_to_run_on_cloud():\n",
    "    print('running sample_code_test.some_function_to_run_on_cloud')\n",
    "    print('in main before sleep 1')\n",
    "    time.sleep(2)\n",
    "    print('in main after sleep 2')\n",
    "    time.sleep(5)\n",
    "    print('in main after sleep 3')\n",
    "    time.sleep(5)\n",
    "    print('in main after sleep 4')"
   ]
  },
  {
   "cell_type": "code",
   "execution_count": null,
   "metadata": {},
   "outputs": [],
   "source": [
    "#hide\n",
    "some_function_to_run_on_cloud()"
   ]
  },
  {
   "cell_type": "code",
   "execution_count": null,
   "metadata": {},
   "outputs": [],
   "source": [
    "!python3 -m gcp_runner.entry_point --module-name='gcp_runner.sample_code' --function-name='some_function_to_run_on_cloud'"
   ]
  },
  {
   "cell_type": "code",
   "execution_count": null,
   "metadata": {},
   "outputs": [],
   "source": [
    "!docker run -v `pwd`/gcp_runner:/gcp_runner 'gcr.io/deeplearning-platform-release/tf2-cpu.2-1' python3 -u -m gcp_runner.entry_point --module-name='gcp_runner.sample_code' --function-name='some_function_to_run_on_cloud'"
   ]
  },
  {
   "cell_type": "code",
   "execution_count": null,
   "metadata": {},
   "outputs": [],
   "source": [
    "!gcloud ai-platform local train --job-dir='job-dir' --module-name=gcp_runner.entry_point \\\n",
    "    --package-path=`pwd`/gcp_runner -- \\\n",
    "    --module-name='gcp_runner.sample_code' --function-name='some_function_to_run_on_cloud'    "
   ]
  },
  {
   "cell_type": "code",
   "execution_count": null,
   "metadata": {},
   "outputs": [],
   "source": [
    "!ls"
   ]
  },
  {
   "cell_type": "code",
   "execution_count": null,
   "metadata": {},
   "outputs": [],
   "source": [
    "!docker build -f Dockerfile -t gcr.io/alekseyv-scalableai-dev/tf2-cpu.2-1 ./"
   ]
  },
  {
   "cell_type": "code",
   "execution_count": null,
   "metadata": {},
   "outputs": [],
   "source": [
    "#hide\n",
    "from gcp_runner.core import export_and_reload_all\n",
    "export_and_reload_all()\n",
    "\n",
    "gcp_runner.run_local.run_python(some_function_to_run_on_cloud)"
   ]
  },
  {
   "cell_type": "code",
   "execution_count": null,
   "metadata": {},
   "outputs": [
    {
     "name": "stdout",
     "output_type": "stream",
     "text": [
      "Converted 00_core.ipynb.\n",
      "Converted 01_ai_platform_constants.ipynb.\n",
      "Converted ai_platform_runner.ipynb.\n",
      "Converted entry_point.ipynb.\n",
      "Converted index.ipynb.\n",
      "Converted kubernetes_runner.ipynb.\n",
      "Converted local_runner.ipynb.\n",
      "Converted sample_code_test.ipynb.\n",
      "Running training job using local Cloud AI:\n",
      "gcloud ai-platform local train \\ \n",
      " --job-dir=job-dir \\ \n",
      " --module-name=gcp_runner.entry_point \\ \n",
      " --package-path=/usr/local/google/home/alekseyv/vlasenkoalexey/gcp_runner/gcp_runner  \\ \n",
      " -- \\ \n",
      " --job-dir=job-dir \\ \n",
      " --module-name=gcp_runner.sample_code_test \\ \n",
      " --function-name=some_function_to_run_on_cloud\n",
      "\u001b[31m<subprocess.Popen object at 0x7f6db97cb6d0>\u001b[0m\n"
     ]
    }
   ],
   "source": [
    "#hide\n",
    "import time\n",
    "\n",
    "import gcp_runner\n",
    "from gcp_runner.core import export_and_reload_all\n",
    "#export_and_reload_all(silent=True, ignore_errors=False)\n",
    "export_and_reload_all()\n",
    "\n",
    "#gcp_runner.run_local.run_python(some_function_to_run_on_cloud)\n",
    "\n",
    "# gcp_runner.run_local.run_docker(\n",
    "#     some_function_to_run_on_cloud, \n",
    "#     'gcr.io/deeplearning-platform-release/tf2-cpu.2-1')\n",
    "\n",
    "gcp_runner.local_runner.run_on_ai_platform(\n",
    "    some_function_to_run_on_cloud, \n",
    "    'job-dir')\n",
    "\n",
    "# need to put package to docker container\n",
    "# gcp_runner.ai_platform_runner.run_docker_image(\n",
    "#     some_function_to_run_on_cloud,\n",
    "#     'gs://alekseyv-scalableai-dev-criteo-model-bucket/test-job-dir',\n",
    "#     build_docker_file='Dockerfile',\n",
    "#     master_image_uri='gcr.io/alekseyv-scalableai-dev/tf2-cpu.2-1')\n",
    "\n",
    "# gcp_runner.ai_platform_runner.run_package(\n",
    "#     some_function_to_run_on_cloud,\n",
    "#     'gs://alekseyv-scalableai-dev-criteo-model-bucket/test-job-dir')\n",
    "\n",
    "#build_docker_file='Dockerfile',\n",
    "\n",
    "\n",
    "# gcp_runner.kubernetes_runner.run_docker_image(\n",
    "#     some_function_to_run_on_cloud,\n",
    "#     'gs://alekseyv-scalableai-dev-criteo-model-bucket/test-job-dir',\n",
    "#     image_uri='gcr.io/alekseyv-scalableai-dev/tf2-cpu.2-1')"
   ]
  },
  {
   "cell_type": "code",
   "execution_count": null,
   "metadata": {},
   "outputs": [
    {
     "name": "stdout",
     "output_type": "stream",
     "text": [
      "Converted 00_core.ipynb.\n",
      "Converted 01_ai_platform_constants.ipynb.\n",
      "Converted ai_platform_runner.ipynb.\n",
      "Converted entry_point.ipynb.\n",
      "Converted index.ipynb.\n",
      "Converted kubernetes_runner.ipynb.\n",
      "Converted local_runner.ipynb.\n",
      "Converted sample_code_test.ipynb.\n"
     ]
    }
   ],
   "source": [
    "from nbdev.export import *\n",
    "notebook2script()\n"
   ]
  }
 ],
 "metadata": {
  "kernelspec": {
   "display_name": "Python 3.7.5 64-bit",
   "language": "python",
   "name": "python37564bitc34665d47f6a46efaf2c998849165367"
  }
 },
 "nbformat": 4,
 "nbformat_minor": 4
}
