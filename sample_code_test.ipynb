{
 "cells": [
  {
   "cell_type": "code",
   "execution_count": null,
   "metadata": {},
   "outputs": [],
   "source": [
    "# default_exp sample_code_test"
   ]
  },
  {
   "cell_type": "code",
   "execution_count": null,
   "metadata": {},
   "outputs": [],
   "source": [
    "#export\n",
    "import time\n",
    "\n",
    "def some_function_to_run_on_cloud():\n",
    "    print('running sample_code_test.some_function_to_run_on_cloud')\n",
    "    print('in main before sleep 1')\n",
    "    time.sleep(2)\n",
    "    print('in main after sleep 2')\n",
    "    time.sleep(5)\n",
    "    print('in main after sleep 3')\n",
    "    time.sleep(5)\n",
    "    print('in main after sleep 4')"
   ]
  },
  {
   "cell_type": "code",
   "execution_count": null,
   "metadata": {},
   "outputs": [],
   "source": [
    "#hide\n",
    "some_function_to_run_on_cloud()"
   ]
  },
  {
   "cell_type": "code",
   "execution_count": null,
   "metadata": {},
   "outputs": [],
   "source": [
    "!python3 -m gcp_runner.entry_point --module-name='gcp_runner.sample_code' --function-name='some_function_to_run_on_cloud'"
   ]
  },
  {
   "cell_type": "code",
   "execution_count": null,
   "metadata": {},
   "outputs": [],
   "source": [
    "!docker run -v `pwd`/gcp_runner:/gcp_runner 'gcr.io/deeplearning-platform-release/tf2-cpu.2-1' python3 -u -m gcp_runner.entry_point --module-name='gcp_runner.sample_code' --function-name='some_function_to_run_on_cloud'"
   ]
  },
  {
   "cell_type": "code",
   "execution_count": null,
   "metadata": {},
   "outputs": [],
   "source": [
    "!gcloud ai-platform local train --job-dir='job-dir' --module-name=gcp_runner.entry_point \\\n",
    "    --package-path=`pwd`/gcp_runner -- \\\n",
    "    --module-name='gcp_runner.sample_code' --function-name='some_function_to_run_on_cloud'    "
   ]
  },
  {
   "cell_type": "code",
   "execution_count": null,
   "metadata": {},
   "outputs": [],
   "source": [
    "!ls"
   ]
  },
  {
   "cell_type": "code",
   "execution_count": null,
   "metadata": {},
   "outputs": [],
   "source": [
    "!docker build -f Dockerfile -t gcr.io/alekseyv-scalableai-dev/tf2-cpu.2-1 ./"
   ]
  },
  {
   "cell_type": "code",
   "execution_count": null,
   "metadata": {},
   "outputs": [],
   "source": [
    "#hide\n",
    "from gcp_runner.core import export_and_reload_all\n",
    "export_and_reload_all()\n",
    "\n",
    "gcp_runner.run_local.run_python(some_function_to_run_on_cloud)"
   ]
  },
  {
   "cell_type": "code",
   "execution_count": null,
   "metadata": {},
   "outputs": [
    {
     "name": "stdout",
     "output_type": "stream",
     "text": [
      "Converted 00_core.ipynb.\n",
      "Converted 01_ai_platform_constants.ipynb.\n",
      "Converted ai_platform_runner.ipynb.\n",
      "Converted entry_point.ipynb.\n",
      "Converted index.ipynb.\n",
      "Converted kubernetes_runner.ipynb.\n",
      "Converted local_runner.ipynb.\n",
      "Converted sample_code_test.ipynb.\n",
      "Running training job using local Cloud AI:\n",
      "gcloud ai-platform local train \\ \n",
      " --job-dir=job-dir \\ \n",
      " --module-name=gcp_runner.entry_point \\ \n",
      " --package-path=/usr/local/google/home/alekseyv/vlasenkoalexey/gcp_runner/gcp_runner  \\ \n",
      " -- \\ \n",
      " --job-dir=job-dir \\ \n",
      " --module-name=gcp_runner.sample_code_test \\ \n",
      " --function-name=some_function_to_run_on_cloud\n",
      "\u001b[31m<subprocess.Popen object at 0x7f6db97cb6d0>\u001b[0m\n"
     ]
    }
   ],
   "source": [
    "#hide\n",
    "import time\n",
    "\n",
    "import gcp_runner\n",
    "from gcp_runner.core import export_and_reload_all\n",
    "#export_and_reload_all(silent=True, ignore_errors=False)\n",
    "export_and_reload_all()\n",
    "\n",
    "#gcp_runner.run_local.run_python(some_function_to_run_on_cloud)\n",
    "\n",
    "# gcp_runner.run_local.run_docker(\n",
    "#     some_function_to_run_on_cloud, \n",
    "#     'gcr.io/deeplearning-platform-release/tf2-cpu.2-1')\n",
    "\n",
    "gcp_runner.local_runner.run_on_ai_platform(\n",
    "    some_function_to_run_on_cloud, \n",
    "    'job-dir')\n",
    "\n",
    "# need to put package to docker container\n",
    "# gcp_runner.ai_platform_runner.run_docker_image(\n",
    "#     some_function_to_run_on_cloud,\n",
    "#     'gs://alekseyv-scalableai-dev-criteo-model-bucket/test-job-dir',\n",
    "#     build_docker_file='Dockerfile',\n",
    "#     master_image_uri='gcr.io/alekseyv-scalableai-dev/tf2-cpu.2-1')\n",
    "\n",
    "# gcp_runner.ai_platform_runner.run_package(\n",
    "#     some_function_to_run_on_cloud,\n",
    "#     'gs://alekseyv-scalableai-dev-criteo-model-bucket/test-job-dir')\n",
    "\n",
    "#build_docker_file='Dockerfile',\n",
    "\n",
    "\n",
    "# gcp_runner.kubernetes_runner.run_docker_image(\n",
    "#     some_function_to_run_on_cloud,\n",
    "#     'gs://alekseyv-scalableai-dev-criteo-model-bucket/test-job-dir',\n",
    "#     image_uri='gcr.io/alekseyv-scalableai-dev/tf2-cpu.2-1')"
   ]
  },
  {
   "cell_type": "code",
   "execution_count": null,
   "metadata": {},
   "outputs": [
    {
     "name": "stdout",
     "output_type": "stream",
     "text": [
      "Converted 00_core.ipynb.\n",
      "Converted 01_ai_platform_constants.ipynb.\n",
      "Converted ai_platform_runner.ipynb.\n",
      "Converted entry_point.ipynb.\n",
      "Converted index.ipynb.\n",
      "Converted kubernetes_runner.ipynb.\n",
      "Converted local_runner.ipynb.\n",
      "Converted sample_code_test.ipynb.\n"
     ]
    }
   ],
   "source": [
    "from nbdev.export import *\n",
    "notebook2script()\n"
   ]
  },
  {
   "cell_type": "code",
   "execution_count": null,
   "metadata": {},
   "outputs": [],
   "source": [
    "from gcp_runner.core import export_and_reload_all\n",
    "export_and_reload_all(silent=True, ignore_errors=False)"
   ]
  },
  {
   "cell_type": "code",
   "execution_count": null,
   "metadata": {},
   "outputs": [
    {
     "name": "stdout",
     "output_type": "stream",
     "text": [
      "running training job using package on Google Cloud Platform AI:\n",
      "gcloud ai-platform jobs submit training ai_platform_runner_train_package_20200331_125543 \\ \n",
      " --runtime-version=2.1 \\ \n",
      " --python-version=3.7 \\ \n",
      " --stream-logs \\ \n",
      " --module-name=gcp_runner.entry_point \\ \n",
      " --package-path=/usr/local/google/home/alekseyv/vlasenkoalexey/gcp_runner/gcp_runner \\ \n",
      " --job-dir=gs://alekseyv-scalableai-dev-criteo-model-bucket/test-job-dir \\ \n",
      " --scale-tier=basic \\ \n",
      " --use-chief-in-tf-config=True \\ \n",
      " -- \\ \n",
      " --job-dir=gs://alekseyv-scalableai-dev-criteo-model-bucket/test-job-dir \\ \n",
      " --module-name=gcp_runner.sample_code_test \\ \n",
      " --function-name=some_function_to_run_on_cloud\n",
      "\u001b[31mJob [ai_platform_runner_train_package_20200331_125543] submitted successfully.\u001b[0m\n",
      "\u001b[31mINFO\t2020-03-31 12:55:46 -0700\tservice\t\tValidating job requirements...\u001b[0m\n",
      "\u001b[31mINFO\t2020-03-31 12:55:47 -0700\tservice\t\tJob creation request has been successfully validated.\u001b[0m\n",
      "\u001b[31mINFO\t2020-03-31 12:55:47 -0700\tservice\t\tWaiting for job to be provisioned.\u001b[0m\n",
      "\u001b[31mINFO\t2020-03-31 12:55:47 -0700\tservice\t\tJob ai_platform_runner_train_package_20200331_125543 is queued.\u001b[0m\n",
      "\u001b[31mINFO\t2020-03-31 12:55:49 -0700\tservice\t\tWaiting for training program to start.\u001b[0m\n",
      "\u001b[31mINFO\t2020-03-31 12:56:52 -0700\tmaster-replica-0\t\tRunning task with arguments: --cluster={\"chief\": [\"127.0.0.1:2222\"]} --task={\"type\": \"chief\", \"index\": 0} --job={  \"package_uris\": [\"gs://alekseyv-scalableai-dev-criteo-model-bucket/test-job-dir/packages/b44d45421ce54443306c367119a390e2e40bd23e4567ed267534198e9441ab25/gcp_runner-0.0.1.tar.gz\"],  \"python_module\": \"gcp_runner.entry_point\",  \"args\": [\"--job-dir\\u003dgs://alekseyv-scalableai-dev-criteo-model-bucket/test-job-dir\", \"--module-name\\u003dgcp_runner.sample_code_test\", \"--function-name\\u003dsome_function_to_run_on_cloud\"],  \"region\": \"us-central1\",  \"runtime_version\": \"2.1\",  \"job_dir\": \"gs://alekseyv-scalableai-dev-criteo-model-bucket/test-job-dir\",  \"run_on_raw_vm\": true,  \"python_version\": \"3.7\",  \"use_chief_in_tf_config\": true}\u001b[0m\n",
      "\u001b[31mWARNING\t2020-03-31 12:57:09 -0700\tmaster-replica-0\t\tFrom /usr/local/lib/python3.7/dist-packages/tensorflow_core/python/ops/resource_variable_ops.py:1635: calling BaseResourceVariable.__init__ (from tensorflow.python.ops.resource_variable_ops) with constraint is deprecated and will be removed in a future version.\u001b[0m\n",
      "\u001b[31mWARNING\t2020-03-31 12:57:09 -0700\tmaster-replica-0\t\tInstructions for updating:\u001b[0m\n",
      "\u001b[31mWARNING\t2020-03-31 12:57:09 -0700\tmaster-replica-0\t\tIf using Keras pass *_constraint arguments to layers.\u001b[0m\n",
      "\u001b[31mINFO\t2020-03-31 12:57:29 -0700\tmaster-replica-0\t\tRunning module gcp_runner.entry_point.\u001b[0m\n",
      "\u001b[31mINFO\t2020-03-31 12:57:29 -0700\tmaster-replica-0\t\tDownloading the package: gs://alekseyv-scalableai-dev-criteo-model-bucket/test-job-dir/packages/b44d45421ce54443306c367119a390e2e40bd23e4567ed267534198e9441ab25/gcp_runner-0.0.1.tar.gz\u001b[0m\n",
      "\u001b[31mINFO\t2020-03-31 12:57:29 -0700\tmaster-replica-0\t\tRunning command: gsutil -q cp gs://alekseyv-scalableai-dev-criteo-model-bucket/test-job-dir/packages/b44d45421ce54443306c367119a390e2e40bd23e4567ed267534198e9441ab25/gcp_runner-0.0.1.tar.gz gcp_runner-0.0.1.tar.gz\u001b[0m\n",
      "\u001b[31mINFO\t2020-03-31 12:57:30 -0700\tmaster-replica-0\t\tInstalling the package: gs://alekseyv-scalableai-dev-criteo-model-bucket/test-job-dir/packages/b44d45421ce54443306c367119a390e2e40bd23e4567ed267534198e9441ab25/gcp_runner-0.0.1.tar.gz\u001b[0m\n",
      "\u001b[31mINFO\t2020-03-31 12:57:30 -0700\tmaster-replica-0\t\tRunning command: pip3 install --user --upgrade --force-reinstall --no-deps gcp_runner-0.0.1.tar.gz\u001b[0m\n",
      "\u001b[31mINFO\t2020-03-31 12:57:31 -0700\tmaster-replica-0\t\tProcessing ./gcp_runner-0.0.1.tar.gz\u001b[0m\n",
      "\u001b[31mINFO\t2020-03-31 12:57:32 -0700\tmaster-replica-0\t\tGenerating grammar tables from /usr/lib/python3.7/lib2to3/Grammar.txt\u001b[0m\n",
      "\u001b[31mINFO\t2020-03-31 12:57:32 -0700\tmaster-replica-0\t\tGenerating grammar tables from /usr/lib/python3.7/lib2to3/PatternGrammar.txt\u001b[0m\n",
      "\u001b[31mINFO\t2020-03-31 12:57:32 -0700\tmaster-replica-0\t\tBuilding wheels for collected packages: gcp-runner\u001b[0m\n",
      "\u001b[31mINFO\t2020-03-31 12:57:32 -0700\tmaster-replica-0\t\t  Building wheel for gcp-runner (setup.py): started\u001b[0m\n",
      "\u001b[31mINFO\t2020-03-31 12:57:32 -0700\tmaster-replica-0\t\tGenerating grammar tables from /usr/lib/python3.7/lib2to3/Grammar.txt\u001b[0m\n",
      "\u001b[31mINFO\t2020-03-31 12:57:32 -0700\tmaster-replica-0\t\tGenerating grammar tables from /usr/lib/python3.7/lib2to3/PatternGrammar.txt\u001b[0m\n",
      "\u001b[31mINFO\t2020-03-31 12:57:32 -0700\tmaster-replica-0\t\t  Building wheel for gcp-runner (setup.py): finished with status 'done'\u001b[0m\n",
      "\u001b[31mINFO\t2020-03-31 12:57:32 -0700\tmaster-replica-0\t\t  Created wheel for gcp-runner: filename=gcp_runner-0.0.1-py3-none-any.whl size=18043 sha256=0c896ff8b8018f9b2986b291f06c38764fe9d8d955db299406aad7d23eb695be\u001b[0m\n",
      "\u001b[31mINFO\t2020-03-31 12:57:32 -0700\tmaster-replica-0\t\t  Stored in directory: /root/.cache/pip/wheels/e4/3a/ce/895f3533dab7017c2d37cf40eb5a0b03d6f9cb2189a35201a8\u001b[0m\n",
      "\u001b[31mINFO\t2020-03-31 12:57:32 -0700\tmaster-replica-0\t\tSuccessfully built gcp-runner\u001b[0m\n",
      "\u001b[31mINFO\t2020-03-31 12:57:32 -0700\tmaster-replica-0\t\tInstalling collected packages: gcp-runner\u001b[0m\n",
      "\u001b[31mINFO\t2020-03-31 12:57:32 -0700\tmaster-replica-0\t\tSuccessfully installed gcp-runner-0.0.1\u001b[0m\n",
      "\u001b[31mINFO\t2020-03-31 12:57:33 -0700\tmaster-replica-0\t\tRunning command: pip3 install --user gcp_runner-0.0.1.tar.gz\u001b[0m\n",
      "\u001b[31mINFO\t2020-03-31 12:57:33 -0700\tmaster-replica-0\t\tProcessing ./gcp_runner-0.0.1.tar.gz\u001b[0m\n",
      "\u001b[31mINFO\t2020-03-31 12:57:33 -0700\tmaster-replica-0\t\tGenerating grammar tables from /usr/lib/python3.7/lib2to3/Grammar.txt\u001b[0m\n",
      "\u001b[31mINFO\t2020-03-31 12:57:33 -0700\tmaster-replica-0\t\tGenerating grammar tables from /usr/lib/python3.7/lib2to3/PatternGrammar.txt\u001b[0m\n",
      "\u001b[31mINFO\t2020-03-31 12:57:33 -0700\tmaster-replica-0\t\tBuilding wheels for collected packages: gcp-runner\u001b[0m\n",
      "\u001b[31mINFO\t2020-03-31 12:57:33 -0700\tmaster-replica-0\t\t  Building wheel for gcp-runner (setup.py): started\u001b[0m\n",
      "\u001b[31mINFO\t2020-03-31 12:57:34 -0700\tmaster-replica-0\t\tGenerating grammar tables from /usr/lib/python3.7/lib2to3/Grammar.txt\u001b[0m\n",
      "\u001b[31mINFO\t2020-03-31 12:57:34 -0700\tmaster-replica-0\t\tGenerating grammar tables from /usr/lib/python3.7/lib2to3/PatternGrammar.txt\u001b[0m\n",
      "\u001b[31mINFO\t2020-03-31 12:57:34 -0700\tmaster-replica-0\t\t  Building wheel for gcp-runner (setup.py): finished with status 'done'\u001b[0m\n",
      "\u001b[31mINFO\t2020-03-31 12:57:34 -0700\tmaster-replica-0\t\t  Created wheel for gcp-runner: filename=gcp_runner-0.0.1-py3-none-any.whl size=18043 sha256=79e8f0c5b103abf84012f59bd769b5d171582c3b597c65dc1c0496a3032e1176\u001b[0m\n",
      "\u001b[31mINFO\t2020-03-31 12:57:34 -0700\tmaster-replica-0\t\t  Stored in directory: /root/.cache/pip/wheels/e4/3a/ce/895f3533dab7017c2d37cf40eb5a0b03d6f9cb2189a35201a8\u001b[0m\n",
      "\u001b[31mINFO\t2020-03-31 12:57:34 -0700\tmaster-replica-0\t\tSuccessfully built gcp-runner\u001b[0m\n",
      "\u001b[31mINFO\t2020-03-31 12:57:34 -0700\tmaster-replica-0\t\tInstalling collected packages: gcp-runner\u001b[0m\n",
      "\u001b[31mINFO\t2020-03-31 12:57:34 -0700\tmaster-replica-0\t\t  Attempting uninstall: gcp-runner\u001b[0m\n",
      "\u001b[31mINFO\t2020-03-31 12:57:34 -0700\tmaster-replica-0\t\t    Found existing installation: gcp-runner 0.0.1\u001b[0m\n",
      "\u001b[31mINFO\t2020-03-31 12:57:34 -0700\tmaster-replica-0\t\t    Uninstalling gcp-runner-0.0.1:\u001b[0m\n",
      "\u001b[31mINFO\t2020-03-31 12:57:34 -0700\tmaster-replica-0\t\t      Successfully uninstalled gcp-runner-0.0.1\u001b[0m\n",
      "\u001b[31mINFO\t2020-03-31 12:57:34 -0700\tmaster-replica-0\t\tSuccessfully installed gcp-runner-0.0.1\u001b[0m\n",
      "\u001b[31mINFO\t2020-03-31 12:57:34 -0700\tmaster-replica-0\t\tRunning command: python3 -m gcp_runner.entry_point --job-dir=gs://alekseyv-scalableai-dev-criteo-model-bucket/test-job-dir --module-name=gcp_runner.sample_code_test --function-name=some_function_to_run_on_cloud --job-dir gs://alekseyv-scalableai-dev-criteo-model-bucket/test-job-dir\u001b[0m\n",
      "\u001b[31mERROR\t2020-03-31 12:57:46 -0700\tmaster-replica-0\t\t/root/.local/lib/python3.7/site-packages/gcp_runner/entry_point.py:30: DeprecationWarning: inspect.getargspec() is deprecated since Python 3.0, use inspect.signature() or inspect.getfullargspec()\u001b[0m\n",
      "\u001b[31mINFO\t2020-03-31 12:57:46 -0700\tmaster-replica-0\t\tin gcp_runner entry point\u001b[0m\n",
      "\u001b[31mERROR\t2020-03-31 12:57:46 -0700\tmaster-replica-0\t\t  args_spec = inspect.getargspec(func)\u001b[0m\n",
      "\u001b[31mINFO\t2020-03-31 12:57:46 -0700\tmaster-replica-0\t\trunning entrypoint function: gcp_runner.sample_code_test.some_function_to_run_on_cloud\u001b[0m\n",
      "\u001b[31mINFO\t2020-03-31 12:57:46 -0700\tmaster-replica-0\t\tadditional args: ['--job-dir=gs://alekseyv-scalableai-dev-criteo-model-bucket/test-job-dir', '--job-dir', 'gs://alekseyv-scalableai-dev-criteo-model-bucket/test-job-dir']\u001b[0m\n",
      "\u001b[31mINFO\t2020-03-31 12:57:46 -0700\tmaster-replica-0\t\trunning sample_code_test.some_function_to_run_on_cloud\u001b[0m\n",
      "\u001b[31mINFO\t2020-03-31 12:57:46 -0700\tmaster-replica-0\t\tin main before sleep 1\u001b[0m\n",
      "\u001b[31mINFO\t2020-03-31 12:57:46 -0700\tmaster-replica-0\t\tin main after sleep 2\u001b[0m\n",
      "\u001b[31mINFO\t2020-03-31 12:57:46 -0700\tmaster-replica-0\t\tin main after sleep 3\u001b[0m\n",
      "\u001b[31mINFO\t2020-03-31 12:57:46 -0700\tmaster-replica-0\t\tin main after sleep 4\u001b[0m\n",
      "\u001b[31mINFO\t2020-03-31 12:57:46 -0700\tmaster-replica-0\t\tModule completed; cleaning up.\u001b[0m\n",
      "\u001b[31mINFO\t2020-03-31 12:57:46 -0700\tmaster-replica-0\t\tClean up finished.\u001b[0m\n",
      "\u001b[31mINFO\t2020-03-31 12:57:46 -0700\tmaster-replica-0\t\tTask completed successfully.\u001b[0m\n",
      "endTime: '2020-03-31T13:01:36'\n",
      "jobId: ai_platform_runner_train_package_20200331_125543\n",
      "startTime: '2020-03-31T12:57:01'\n",
      "state: SUCCEEDED\n"
     ]
    },
    {
     "data": {
      "text/plain": [
       "0"
      ]
     },
     "execution_count": null,
     "metadata": {},
     "output_type": "execute_result"
    }
   ],
   "source": [
    "import gcp_runner.ai_platform_runner\n",
    "\n",
    "gcp_runner.ai_platform_runner.run_package(\n",
    "     some_function_to_run_on_cloud, \n",
    "     'gs://alekseyv-scalableai-dev-criteo-model-bucket/test-job-dir')"
   ]
  },
  {
   "cell_type": "code",
   "execution_count": null,
   "metadata": {},
   "outputs": [],
   "source": []
  }
 ],
 "metadata": {
  "kernelspec": {
   "display_name": "Python 3.7.5 64-bit",
   "language": "python",
   "name": "python37564bitc34665d47f6a46efaf2c998849165367"
  }
 },
 "nbformat": 4,
 "nbformat_minor": 4
}
