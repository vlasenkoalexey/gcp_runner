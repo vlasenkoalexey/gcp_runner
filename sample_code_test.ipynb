{
 "cells": [
  {
   "cell_type": "code",
   "execution_count": null,
   "metadata": {},
   "outputs": [],
   "source": [
    "# default_exp sample_code_test"
   ]
  },
  {
   "cell_type": "code",
   "execution_count": 15,
   "metadata": {},
   "outputs": [],
   "source": [
    "#export\n",
    "import time\n",
    "\n",
    "def some_function_to_run_on_cloud():\n",
    "    print('running sample_code_test.some_function_to_run_on_cloud')\n",
    "    print('in main before sleep 1')\n",
    "    time.sleep(1)\n",
    "    print('in main after sleep 2')\n",
    "    time.sleep(1)\n",
    "    print('in main after sleep 3')\n",
    "    time.sleep(1)\n",
    "    raise Exception('Error in main after sleep 4')\n"
   ]
  },
  {
   "cell_type": "code",
   "execution_count": 16,
   "metadata": {
    "tags": []
   },
   "outputs": [
    {
     "name": "stdout",
     "output_type": "stream",
     "text": [
      "running sample_code_test.some_function_to_run_on_cloud\n",
      "in main before sleep 1\n",
      "in main after sleep 2\n",
      "in main after sleep 3\n"
     ]
    },
    {
     "ename": "Exception",
     "evalue": "Error in main after sleep 4",
     "output_type": "error",
     "traceback": [
      "\u001b[0;31m---------------------------------------------------------------------------\u001b[0m",
      "\u001b[0;31mException\u001b[0m                                 Traceback (most recent call last)",
      "\u001b[0;32m<ipython-input-16-a3a7e1cfd546>\u001b[0m in \u001b[0;36m<module>\u001b[0;34m\u001b[0m\n\u001b[1;32m      1\u001b[0m \u001b[0;31m#hide\u001b[0m\u001b[0;34m\u001b[0m\u001b[0;34m\u001b[0m\u001b[0;34m\u001b[0m\u001b[0m\n\u001b[0;32m----> 2\u001b[0;31m \u001b[0msome_function_to_run_on_cloud\u001b[0m\u001b[0;34m(\u001b[0m\u001b[0;34m)\u001b[0m\u001b[0;34m\u001b[0m\u001b[0;34m\u001b[0m\u001b[0m\n\u001b[0m",
      "\u001b[0;32m<ipython-input-15-603ad3c41ab0>\u001b[0m in \u001b[0;36msome_function_to_run_on_cloud\u001b[0;34m()\u001b[0m\n\u001b[1;32m     10\u001b[0m     \u001b[0mprint\u001b[0m\u001b[0;34m(\u001b[0m\u001b[0;34m'in main after sleep 3'\u001b[0m\u001b[0;34m)\u001b[0m\u001b[0;34m\u001b[0m\u001b[0;34m\u001b[0m\u001b[0m\n\u001b[1;32m     11\u001b[0m     \u001b[0mtime\u001b[0m\u001b[0;34m.\u001b[0m\u001b[0msleep\u001b[0m\u001b[0;34m(\u001b[0m\u001b[0;36m1\u001b[0m\u001b[0;34m)\u001b[0m\u001b[0;34m\u001b[0m\u001b[0;34m\u001b[0m\u001b[0m\n\u001b[0;32m---> 12\u001b[0;31m     \u001b[0;32mraise\u001b[0m \u001b[0mException\u001b[0m\u001b[0;34m(\u001b[0m\u001b[0;34m'Error in main after sleep 4'\u001b[0m\u001b[0;34m)\u001b[0m\u001b[0;34m\u001b[0m\u001b[0;34m\u001b[0m\u001b[0m\n\u001b[0m",
      "\u001b[0;31mException\u001b[0m: Error in main after sleep 4"
     ]
    }
   ],
   "source": [
    "#hide\n",
    "some_function_to_run_on_cloud()"
   ]
  },
  {
   "cell_type": "code",
   "execution_count": 17,
   "metadata": {
    "tags": []
   },
   "outputs": [
    {
     "name": "stdout",
     "output_type": "stream",
     "text": [
      "Converted 00_core.ipynb.\n",
      "Converted ai_platform_constants.ipynb.\n",
      "Converted ai_platform_runner.ipynb.\n",
      "Converted entry_point.ipynb.\n",
      "Converted index.ipynb.\n",
      "Converted kubernetes_runner.ipynb.\n",
      "Converted local_runner.ipynb.\n",
      "Converted sample_code_test.ipynb.\n",
      "Running as python script:\n",
      "python -u -m gcp_runner.entry_point --module-name=gcp_runner.sample_code_test --function-name=some_function_to_run_on_cloud\n",
      "in gcp_runner entry point:\n",
      "['/usr/local/google/home/alekseyv/vlasenkoalexey/gcp_runner/gcp_runner/entry_point.py', '--module-name=gcp_runner.sample_code_test', '--function-name=some_function_to_run_on_cloud']\n",
      "running entrypoint function: gcp_runner.sample_code_test.some_function_to_run_on_cloud\n",
      "running sample_code_test.some_function_to_run_on_cloud\n",
      "in main before sleep 1\n",
      "in main after sleep 2\n",
      "in main after sleep 3\n",
      "\u001b[31mTraceback (most recent call last):\u001b[0m\n",
      "\u001b[31m  File \"/usr/lib/python2.7/runpy.py\", line 174, in _run_module_as_main\u001b[0m\n",
      "\u001b[31m    \"__main__\", fname, loader, pkg_name)\u001b[0m\n",
      "\u001b[31m  File \"/usr/lib/python2.7/runpy.py\", line 72, in _run_code\u001b[0m\n",
      "\u001b[31m    exec code in run_globals\u001b[0m\n",
      "\u001b[31m  File \"/usr/local/google/home/alekseyv/vlasenkoalexey/gcp_runner/gcp_runner/entry_point.py\", line 139, in <module>\u001b[0m\n",
      "\u001b[31m    main()\u001b[0m\n",
      "\u001b[31m  File \"/usr/local/google/home/alekseyv/vlasenkoalexey/gcp_runner/gcp_runner/entry_point.py\", line 113, in main\u001b[0m\n",
      "\u001b[31m    return func()\u001b[0m\n",
      "\u001b[31m  File \"gcp_runner/sample_code_test.py\", line 16, in some_function_to_run_on_cloud\u001b[0m\n",
      "\u001b[31m    raise Exception('Error in main after sleep 4')\u001b[0m\n",
      "\u001b[31mException: Error in main after sleep 4\u001b[0m\n"
     ]
    }
   ],
   "source": [
    "#hide\n",
    "import gcp_runner\n",
    "import gcp_runner.local_runner\n",
    "from gcp_runner.core import export_and_reload_all\n",
    "export_and_reload_all()\n",
    "\n",
    "gcp_runner.local_runner.run_python(some_function_to_run_on_cloud)"
   ]
  },
  {
   "cell_type": "code",
   "execution_count": null,
   "metadata": {},
   "outputs": [],
   "source": [
    "import gcp_runner.ai_platform_runner\n",
    "\n",
    "gcp_runner.ai_platform_runner.run_package(\n",
    "     some_function_to_run_on_cloud, \n",
    "     'gs://alekseyv-scalableai-dev-criteo-model-bucket/test-job-dir')"
   ]
  },
  {
   "cell_type": "code",
   "execution_count": null,
   "metadata": {},
   "outputs": [],
   "source": [
    "import gcp_runner.kubernetes_runner\n",
    "from gcp_runner import ai_platform_constants\n",
    "\n",
    "gcp_runner.kubernetes_runner.run_docker_image(\n",
    "    some_function_to_run_on_cloud,\n",
    "    'gs://alekseyv-scalableai-dev-criteo-model-bucket/test-job-dir',\n",
    "    image_uri='gcr.io/alekseyv-scalableai-dev/tf2-cpu.2-1',\n",
    "    distribution_strategy_type=ai_platform_constants.DistributionStrategyType.MIRRORED_STRATEGY,\n",
    "    use_distribution_strategy_scope=True,\n",
    "    dry_run=True)"
   ]
  }
 ],
 "metadata": {
  "kernelspec": {
   "display_name": "Python 3.8.5 64-bit",
   "language": "python",
   "name": "python38564bit13e786327e864b6b8a0b25f674ce5abb"
  },
  "language_info": {
   "codemirror_mode": {
    "name": "ipython",
    "version": 3
   },
   "file_extension": ".py",
   "mimetype": "text/x-python",
   "name": "python",
   "nbconvert_exporter": "python",
   "pygments_lexer": "ipython3",
   "version": "3.8.5"
  }
 },
 "nbformat": 4,
 "nbformat_minor": 4
}
