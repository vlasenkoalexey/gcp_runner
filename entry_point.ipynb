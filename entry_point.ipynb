{
 "cells": [
  {
   "cell_type": "code",
   "execution_count": 1,
   "metadata": {},
   "outputs": [],
   "source": [
    "# default_exp entry_point"
   ]
  },
  {
   "cell_type": "code",
   "execution_count": 9,
   "metadata": {},
   "outputs": [
    {
     "name": "stderr",
     "output_type": "stream",
     "text": [
      "usage: ipykernel_launcher.py [-h] --module-name MODULE_NAME --function-name\n",
      "                             FUNCTION_NAME\n",
      "ipykernel_launcher.py: error: the following arguments are required: --module-name, --function-name\n"
     ]
    },
    {
     "ename": "SystemExit",
     "evalue": "2",
     "output_type": "error",
     "traceback": [
      "An exception has occurred, use %tb to see the full traceback.\n",
      "\u001b[0;31mSystemExit\u001b[0m\u001b[0;31m:\u001b[0m 2\n"
     ]
    }
   ],
   "source": [
    "#export\n",
    "import os\n",
    "import argparse\n",
    "import time\n",
    "import importlib\n",
    "\n",
    "def main():\n",
    "    print('in entry point')\n",
    "    args_parser = argparse.ArgumentParser()\n",
    "    args_parser.add_argument(\n",
    "        '--module-name',\n",
    "        help='module name of an app to run',\n",
    "        required=True)\n",
    "    args_parser.add_argument(\n",
    "        '--function-name',\n",
    "        help='function name to run',\n",
    "        required=True)\n",
    "    \n",
    "    args, unknown_args = args_parser.parse_known_args()\n",
    "    print('running entrypoint function: %s.%s' % (args.module_name, args.function_name))\n",
    "    \n",
    "    module = importlib.import_module(args.module_name)\n",
    "    func = getattr(module, args.function_name)\n",
    "    \n",
    "    #TODO: figure out how to pass remaining parameters like distribution strategy for example\n",
    "    \n",
    "    #func(unknown_args)\n",
    "    func()\n",
    "    \n",
    "if __name__ == '__main__':\n",
    "    main()"
   ]
  },
  {
   "cell_type": "code",
   "execution_count": 12,
   "metadata": {},
   "outputs": [
    {
     "name": "stdout",
     "output_type": "stream",
     "text": [
      "Converted 00_core.ipynb.\n",
      "Converted entry_point.ipynb.\n",
      "Converted index.ipynb.\n",
      "Converted run_local.ipynb.\n",
      "Converted sample_code.ipynb.\n"
     ]
    }
   ],
   "source": [
    "from nbdev.export import *\n",
    "notebook2script()"
   ]
  }
 ],
 "metadata": {
  "kernelspec": {
   "display_name": "Python 3.7.5 64-bit",
   "language": "python",
   "name": "python37564bitc34665d47f6a46efaf2c998849165367"
  },
  "language_info": {
   "codemirror_mode": {
    "name": "ipython",
    "version": 3
   },
   "file_extension": ".py",
   "mimetype": "text/x-python",
   "name": "python",
   "nbconvert_exporter": "python",
   "pygments_lexer": "ipython3",
   "version": "3.7.5"
  }
 },
 "nbformat": 4,
 "nbformat_minor": 4
}
