{
 "cells": [
  {
   "cell_type": "code",
   "execution_count": null,
   "metadata": {},
   "outputs": [],
   "source": [
    "# default_exp entry_point"
   ]
  },
  {
   "cell_type": "code",
   "execution_count": null,
   "metadata": {},
   "outputs": [
    {
     "name": "stdout",
     "output_type": "stream",
     "text": [
      "in gcp_runner entry point\n"
     ]
    },
    {
     "name": "stderr",
     "output_type": "stream",
     "text": [
      "usage: ipykernel_launcher.py [-h] --module-name MODULE_NAME --function-name\n",
      "                             FUNCTION_NAME\n",
      "ipykernel_launcher.py: error: argument --module-name is required\n"
     ]
    },
    {
     "ename": "SystemExit",
     "evalue": "2",
     "output_type": "error",
     "traceback": [
      "An exception has occurred, use %tb to see the full traceback.\n",
      "\u001b[0;31mSystemExit\u001b[0m\u001b[0;31m:\u001b[0m 2\n"
     ]
    },
    {
     "name": "stderr",
     "output_type": "stream",
     "text": [
      "/usr/local/lib/python2.7/dist-packages/IPython/core/interactiveshell.py:2886: UserWarning: To exit: use 'exit', 'quit', or Ctrl-D.\n",
      "  warn(\"To exit: use 'exit', 'quit', or Ctrl-D.\", stacklevel=1)\n"
     ]
    }
   ],
   "source": [
    "#export\n",
    "import os\n",
    "import argparse\n",
    "import time\n",
    "import importlib\n",
    "import inspect\n",
    "import logging\n",
    "from gcp_runner.ai_platform_constants import DistributionStrategyType\n",
    "\n",
    "def get_distribution_strategy_instance(distribution_strategy_type:DistributionStrategyType):\n",
    "    import tensorflow as tf\n",
    "\n",
    "    logging.info('initializing distribution strategy: %s', distribution_strategy_type)\n",
    "    if distribution_strategy_type == DistributionStrategyType.TPU_STRATEGY:\n",
    "        tpu = None\n",
    "        try:\n",
    "            logging.info('resolving to TPU cluster')\n",
    "            tpu = tf.distribute.cluster_resolver.TPUClusterResolver()\n",
    "            logging.info('connecting to TPU cluster')\n",
    "            tf.config.experimental_connect_to_cluster(tpu)\n",
    "        except ValueError as e:\n",
    "            logging.info('error connecting to TPU cluster: %s', e)\n",
    "            return None\n",
    "        logging.info('initializing TPU system')\n",
    "        tf.tpu.experimental.initialize_tpu_system(tpu)\n",
    "        distribution_strategy = tf.distribute.experimental.TPUStrategy(tpu)\n",
    "        logging.info(\n",
    "            'training using TPUStrategy, tpu.cluster_spec: %s', tpu.cluster_spec())\n",
    "        return distribution_strategy\n",
    "    elif args.distribution_strategy == DistributionStrategyType.ONE_DEVICE_STRATEGY:\n",
    "        return tf.distribute.OneDeviceStrategy(device=\"/cpu:0\")\n",
    "    elif args.distribution_strategy:\n",
    "        return eval(args.distribution_strategy)()\n",
    "    \n",
    "def parse_unknown_args(unknown_args):\n",
    "    kwargs = {}\n",
    "    for arg in unknown_args:\n",
    "        parse_result = re.search('--(.+)=(.+)', arg, re.IGNORECASE)\n",
    "        if parse_result is not None and parse_result.groups() is not None and len(parse_result.groups()) == 2:\n",
    "            kwargs[parse_result.group(1).replace('-', '_')] = parse_result.group(2)\n",
    "        else:\n",
    "            print(\"can't parse argument: %s\" % arg)\n",
    "    return kwargs\n",
    "\n",
    "def main():\n",
    "    print('in gcp_runner entry point')\n",
    "    args_parser = argparse.ArgumentParser()\n",
    "    args_parser.add_argument(\n",
    "        '--module-name',\n",
    "        help='module name of an app to run',\n",
    "        required=True)\n",
    "    args_parser.add_argument(\n",
    "        '--function-name',\n",
    "        help='function name to run',\n",
    "        required=True)\n",
    "    args_parser.add_argument(\n",
    "        '--distribution-strategy',\n",
    "        help='distribution strategy',\n",
    "        choices=list([e.value for e in DistributionStrategyType]))\n",
    "    \n",
    "    args, unknown_args = args_parser.parse_known_args()\n",
    "    print('running entrypoint function: %s.%s' % (args.module_name, args.function_name))\n",
    "    module = importlib.import_module(args.module_name)\n",
    "    func = getattr(module, args.function_name)\n",
    "    if unknown_args is None or len(unknown_args) == 0:\n",
    "        return func()\n",
    "    \n",
    "    print('additional args: %s' % str(unknown_args))\n",
    "    args_spec = inspect.getargspec(func)\n",
    "    if args_spec is None or args_spec.keywords is None or len(args_spec.keywords) == 0:\n",
    "        print('provided function does not take any arguments, running as is')\n",
    "        return func()\n",
    "        \n",
    "    distribution_strategy = None    \n",
    "    if (args.distribution_strategy is not None):\n",
    "        distribution_strategy_type = DistributionStrategyType(args.distribution_strategy)\n",
    "        distribution_strategy = get_distribution_strategy_instance(distribution_strategy_type)\n",
    "        \n",
    "    kwargs = parse_unknown_args(unknown_args)\n",
    "    if distribution_strategy is not None:\n",
    "        kwargs['distribution_strategy'] = distribution_strategy\n",
    "    \n",
    "    return func(kwargs)\n",
    "    \n",
    "if __name__ == '__main__':\n",
    "    main()"
   ]
  },
  {
   "cell_type": "code",
   "execution_count": null,
   "metadata": {},
   "outputs": [
    {
     "ename": "ImportError",
     "evalue": "No module named nbdev.export",
     "output_type": "error",
     "traceback": [
      "\u001b[0;31m---------------------------------------------------------------------------\u001b[0m",
      "\u001b[0;31mImportError\u001b[0m                               Traceback (most recent call last)",
      "\u001b[0;32m<ipython-input-11-6ff9d98e6966>\u001b[0m in \u001b[0;36m<module>\u001b[0;34m()\u001b[0m\n\u001b[0;32m----> 1\u001b[0;31m \u001b[0;32mfrom\u001b[0m \u001b[0mnbdev\u001b[0m\u001b[0;34m.\u001b[0m\u001b[0mexport\u001b[0m \u001b[0;32mimport\u001b[0m \u001b[0;34m*\u001b[0m\u001b[0;34m\u001b[0m\u001b[0m\n\u001b[0m\u001b[1;32m      2\u001b[0m \u001b[0mnotebook2script\u001b[0m\u001b[0;34m(\u001b[0m\u001b[0;34m)\u001b[0m\u001b[0;34m\u001b[0m\u001b[0m\n",
      "\u001b[0;31mImportError\u001b[0m: No module named nbdev.export"
     ]
    }
   ],
   "source": [
    "from nbdev.export import *\n",
    "notebook2script()"
   ]
  }
 ],
 "metadata": {
  "kernelspec": {
   "display_name": "Python 2.7.17 64-bit",
   "language": "python",
   "name": "python271764bitc7cd7f69670d42cd9c9452baa80f2a65"
  }
 },
 "nbformat": 4,
 "nbformat_minor": 4
}
