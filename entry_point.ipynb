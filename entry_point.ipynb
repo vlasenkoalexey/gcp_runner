{
 "cells": [
  {
   "cell_type": "code",
   "execution_count": null,
   "metadata": {},
   "outputs": [],
   "source": [
    "# default_exp entry_point"
   ]
  },
  {
   "cell_type": "code",
   "execution_count": null,
   "metadata": {},
   "outputs": [
    {
     "name": "stdout",
     "output_type": "stream",
     "text": [
      "in gcp_runner entry point\n"
     ]
    },
    {
     "name": "stderr",
     "output_type": "stream",
     "text": [
      "usage: ipykernel_launcher.py [-h] --module-name MODULE_NAME --function-name\n",
      "                             FUNCTION_NAME\n",
      "ipykernel_launcher.py: error: argument --module-name is required\n"
     ]
    },
    {
     "ename": "SystemExit",
     "evalue": "2",
     "output_type": "error",
     "traceback": [
      "An exception has occurred, use %tb to see the full traceback.\n",
      "\u001b[0;31mSystemExit\u001b[0m\u001b[0;31m:\u001b[0m 2\n"
     ]
    },
    {
     "name": "stderr",
     "output_type": "stream",
     "text": [
      "/usr/local/lib/python2.7/dist-packages/IPython/core/interactiveshell.py:2886: UserWarning: To exit: use 'exit', 'quit', or Ctrl-D.\n",
      "  warn(\"To exit: use 'exit', 'quit', or Ctrl-D.\", stacklevel=1)\n"
     ]
    }
   ],
   "source": [
    "#export\n",
    "import os\n",
    "import argparse\n",
    "import time\n",
    "import importlib\n",
    "import inspect\n",
    "\n",
    "def main():\n",
    "    print('in gcp_runner entry point')\n",
    "    args_parser = argparse.ArgumentParser()\n",
    "    args_parser.add_argument(\n",
    "        '--module-name',\n",
    "        help='module name of an app to run',\n",
    "        required=True)\n",
    "    args_parser.add_argument(\n",
    "        '--function-name',\n",
    "        help='function name to run',\n",
    "        required=True)\n",
    "    \n",
    "    args, unknown_args = args_parser.parse_known_args()\n",
    "    print('running entrypoint function: %s.%s' % (args.module_name, args.function_name))\n",
    "    module = importlib.import_module(args.module_name)\n",
    "    func = getattr(module, args.function_name)\n",
    "    if unknown_args is not None and len(unknown_args) > 0:\n",
    "        print('additional args: %s' % str(unknown_args))\n",
    "        args_spec = inspect.getargspec(func)\n",
    "        if args_spec is not None and (len(args_spec.args) == 1 or args_spec.varargs == 'args'):\n",
    "            func(unknown_args)\n",
    "            return\n",
    "    \n",
    "    func()\n",
    "    \n",
    "if __name__ == '__main__':\n",
    "    main()"
   ]
  },
  {
   "cell_type": "code",
   "execution_count": null,
   "metadata": {},
   "outputs": [
    {
     "name": "stdout",
     "output_type": "stream",
     "text": [
      "Converted 00_core.ipynb.\n",
      "Converted entry_point.ipynb.\n",
      "Converted index.ipynb.\n",
      "Converted run_local.ipynb.\n",
      "Converted sample_code.ipynb.\n"
     ]
    }
   ],
   "source": [
    "from nbdev.export import *\n",
    "notebook2script()"
   ]
  }
 ],
 "metadata": {
  "kernelspec": {
   "display_name": "Python 2.7.17 64-bit",
   "language": "python",
   "name": "python271764bitc7cd7f69670d42cd9c9452baa80f2a65"
  }
 },
 "nbformat": 4,
 "nbformat_minor": 4
}
