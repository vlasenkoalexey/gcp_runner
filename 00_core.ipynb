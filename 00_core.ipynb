{
 "cells": [
  {
   "cell_type": "code",
   "execution_count": null,
   "metadata": {},
   "outputs": [],
   "source": [
    "# default_exp core"
   ]
  },
  {
   "cell_type": "markdown",
   "metadata": {},
   "source": [
    "# Core\n",
    "\n",
    "> API details."
   ]
  },
  {
   "cell_type": "code",
   "execution_count": null,
   "metadata": {},
   "outputs": [],
   "source": [
    "#hide\n",
    "from nbdev.showdoc import *\n"
   ]
  },
  {
   "cell_type": "code",
   "execution_count": 13,
   "metadata": {},
   "outputs": [
    {
     "name": "stdout",
     "output_type": "stream",
     "text": [
      "Converted 00_core.ipynb.\n",
      "Converted ai_platform_constants.ipynb.\n",
      "Converted ai_platform_runner.ipynb.\n",
      "Converted entry_point.ipynb.\n",
      "Converted index.ipynb.\n",
      "Converted kubernetes_runner.ipynb.\n",
      "Converted local_runner.ipynb.\n",
      "Converted sample_code.ipynb.\n"
     ]
    }
   ],
   "source": [
    "notebook2script()"
   ]
  },
  {
   "cell_type": "code",
   "execution_count": 14,
   "metadata": {},
   "outputs": [],
   "source": [
    "#export\n",
    "\n",
    "import pkgutil\n",
    "import importlib\n",
    "import time\n",
    "import nbdev.imports\n",
    "from nbdev.export import *\n",
    "\n",
    "def get_package_name():\n",
    "    \"Returns name of the current package\"\n",
    "    # see logic in https://github.com/fastai/nbdev/blob/master/nbdev/export.py\n",
    "    return str(nbdev.imports.Config().lib_path).split('/')[-1]\n",
    "\n",
    "def reload_package_modules(package_name):\n",
    "    \"Dynamically reloads package `package_name`\"\n",
    "    for _, module_name, _ in (pkgutil.iter_modules([package_name])):\n",
    "        module = importlib.import_module(package_name + '.' + module_name)\n",
    "        importlib.reload(module)\n",
    "        \n",
    "def export_and_reload_all():\n",
    "    \"Converts all notebooks to modules, and reloads all modules\"\n",
    "    if nbdev.imports.in_ipython():\n",
    "        notebook2script()\n",
    "        time.sleep(1)\n",
    "        reload_package_modules(get_package_name())"
   ]
  },
  {
   "cell_type": "code",
   "execution_count": 15,
   "metadata": {},
   "outputs": [
    {
     "name": "stdout",
     "output_type": "stream",
     "text": [
      "Converted 00_core.ipynb.\n",
      "Converted ai_platform_constants.ipynb.\n",
      "Converted ai_platform_runner.ipynb.\n",
      "Converted entry_point.ipynb.\n",
      "Converted index.ipynb.\n",
      "Converted kubernetes_runner.ipynb.\n",
      "Converted local_runner.ipynb.\n",
      "Converted sample_code.ipynb.\n"
     ]
    }
   ],
   "source": [
    "export_and_reload_all()"
   ]
  }
 ],
 "metadata": {
  "kernelspec": {
   "display_name": "Python 3",
   "language": "python",
   "name": "python3"
  },
  "language_info": {
   "codemirror_mode": {
    "name": "ipython",
    "version": 3
   },
   "file_extension": ".py",
   "mimetype": "text/x-python",
   "name": "python",
   "nbconvert_exporter": "python",
   "pygments_lexer": "ipython3",
   "version": "3.7.5"
  }
 },
 "nbformat": 4,
 "nbformat_minor": 4
}
