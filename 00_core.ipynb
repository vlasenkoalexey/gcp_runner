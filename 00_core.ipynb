{
 "cells": [
  {
   "cell_type": "code",
   "execution_count": 2,
   "metadata": {},
   "outputs": [],
   "source": [
    "# default_exp core"
   ]
  },
  {
   "cell_type": "markdown",
   "metadata": {},
   "source": [
    "# Core\n",
    "\n",
    "> API details."
   ]
  },
  {
   "cell_type": "code",
   "execution_count": 3,
   "metadata": {},
   "outputs": [],
   "source": [
    "#hide\n",
    "from nbdev.showdoc import *"
   ]
  },
  {
   "cell_type": "code",
   "execution_count": 5,
   "metadata": {},
   "outputs": [
    {
     "name": "stdout",
     "output_type": "stream",
     "text": [
      "Converted 00_core.ipynb.\n",
      "Converted 01_ai_platform_constants.ipynb.\n",
      "Converted ai_platform_runner.ipynb.\n",
      "Converted entry_point.ipynb.\n",
      "Converted index.ipynb.\n",
      "Converted kubernetes_runner.ipynb.\n",
      "Converted local_runner.ipynb.\n",
      "Converted sample_code.ipynb.\n"
     ]
    }
   ],
   "source": [
    "from nbdev.export import *\n",
    "notebook2script()"
   ]
  },
  {
   "cell_type": "code",
   "execution_count": 8,
   "metadata": {},
   "outputs": [],
   "source": [
    "#export\n",
    "\n",
    "import pkgutil\n",
    "import importlib\n",
    "import time\n",
    "import nbdev.imports\n",
    "from nbdev.export import *\n",
    "\n",
    "def get_package_name():\n",
    "    \"Returns name of the current package\"\n",
    "    # see logic in https://github.com/fastai/nbdev/blob/master/nbdev/export.py\n",
    "    return str(nbdev.imports.Config().lib_path).split('/')[-1]\n",
    "\n",
    "def reload_package_modules(package_name):\n",
    "    \"Dynamically reloads package `package_name`\"\n",
    "    for _, module_name, _ in (pkgutil.iter_modules([package_name])):\n",
    "        module = importlib.import_module(package_name + '.' + module_name)\n",
    "        importlib.reload(module)\n",
    "        \n",
    "def export_and_reload_all():\n",
    "    \"Converts all notebooks to modules, and reloads all modules\"\n",
    "    if nbdev.imports.in_ipython():\n",
    "        notebook2script()\n",
    "        time.sleep(1)\n",
    "        reload_package_modules(get_package_name())"
   ]
  },
  {
   "cell_type": "code",
   "execution_count": 9,
   "metadata": {},
   "outputs": [
    {
     "data": {
      "text/plain": [
       "'gcp_runner'"
      ]
     },
     "execution_count": 9,
     "metadata": {},
     "output_type": "execute_result"
    }
   ],
   "source": [
    "#hide\n",
    "get_package_name()"
   ]
  },
  {
   "cell_type": "code",
   "execution_count": 10,
   "metadata": {},
   "outputs": [],
   "source": [
    "#export\n",
    "import IPython.core\n",
    "import json\n",
    "import os.path\n",
    "import re\n",
    "import ipykernel\n",
    "import requests\n",
    "\n",
    "# Alternative that works for both Python 2 and 3:\n",
    "from requests.compat import urljoin\n",
    "\n",
    "try:  # Python 3 (see Edit2 below for why this may not work in Python 2)\n",
    "    from notebook.notebookapp import list_running_servers\n",
    "except ImportError:  # Python 2\n",
    "    import warnings\n",
    "    from IPython.utils.shimmodule import ShimWarning\n",
    "    with warnings.catch_warnings():\n",
    "        warnings.simplefilter(\"ignore\", category=ShimWarning)\n",
    "        from IPython.html.notebookapp import list_running_servers\n",
    "\n",
    "\n",
    "def get_notebook_path():\n",
    "    \"\"\"\n",
    "    Return the full path of the jupyter notebook.\n",
    "    !!! Doesn't work from VS code.\n",
    "    \"\"\"\n",
    "    kernel_id = re.search('kernel-(.*).json',\n",
    "                          ipykernel.connect.get_connection_file()).group(1)\n",
    "    servers = list_running_servers()\n",
    "    for ss in servers:\n",
    "        try:\n",
    "            response = requests.get(urljoin(ss['url'], 'api/sessions'),\n",
    "                                    params={'token': ss.get('token', '')}, timeout=1)\n",
    "            for nn in json.loads(response.text):\n",
    "                if nn['kernel']['id'] == kernel_id:\n",
    "                    relative_path = nn['notebook']['path']\n",
    "                    return os.path.join(ss['notebook_dir'], relative_path)\n",
    "        except Exception as e:\n",
    "            pass\n"
   ]
  },
  {
   "cell_type": "code",
   "execution_count": 12,
   "metadata": {},
   "outputs": [
    {
     "data": {
      "text/plain": [
       "'/usr/local/google/home/alekseyv/vlasenkoalexey/gcp_runner/00_core.ipynb'"
      ]
     },
     "execution_count": 12,
     "metadata": {},
     "output_type": "execute_result"
    }
   ],
   "source": [
    "#hide\n",
    "get_notebook_path()"
   ]
  },
  {
   "cell_type": "code",
   "execution_count": 13,
   "metadata": {},
   "outputs": [],
   "source": [
    "#export\n",
    "import nbdev.export\n",
    "\n",
    "def find_default_export_for_notebook(notebook_path):\n",
    "    nb = nbdev.export.read_nb(notebook_path)\n",
    "    default = nbdev.export.find_default_export(nb['cells'])\n",
    "    return default\n",
    "\n",
    "def get_module_name():\n",
    "    return find_default_export_for_notebook(get_notebook_path())"
   ]
  },
  {
   "cell_type": "code",
   "execution_count": 14,
   "metadata": {},
   "outputs": [
    {
     "data": {
      "text/plain": [
       "'core'"
      ]
     },
     "execution_count": 14,
     "metadata": {},
     "output_type": "execute_result"
    }
   ],
   "source": [
    "#hide\n",
    "get_module_name()"
   ]
  },
  {
   "cell_type": "code",
   "execution_count": 15,
   "metadata": {},
   "outputs": [],
   "source": [
    "#export\n",
    "\n",
    "import os\n",
    "import subprocess\n",
    "import io\n",
    "\n",
    "from threading import Thread\n",
    "from queue import Queue \n",
    "\n",
    "def _reader(pipe, queue, pipe_name):\n",
    "    try:\n",
    "        with pipe:\n",
    "            for line in iter(pipe.readline, b''):\n",
    "                queue.put((pipe_name, line))\n",
    "    finally:\n",
    "        queue.put(None)\n",
    "        \n",
    "def run_process(args, **kwargs):\n",
    "    proc = subprocess.Popen(\n",
    "        args, \n",
    "        stdout=subprocess.PIPE, \n",
    "        stderr=subprocess.PIPE, \n",
    "        bufsize=1)\n",
    "    \n",
    "    q = Queue()\n",
    "    Thread(target=_reader, args=[proc.stdout, q, 'stdout']).start()\n",
    "    Thread(target=_reader, args=[proc.stderr, q, 'stderr']).start()\n",
    "    #for _ in range(2):\n",
    "    for source, line in iter(q.get, None):\n",
    "        line = line.decode('utf-8').rstrip('\\r\\n')\n",
    "        if source == 'stderr':\n",
    "            print(\"\\x1b[31m{}\\x1b[0m\".format(line))\n",
    "        else:\n",
    "            print(line)\n",
    "    \n",
    "    return proc.poll()"
   ]
  },
  {
   "cell_type": "code",
   "execution_count": 17,
   "metadata": {},
   "outputs": [
    {
     "name": "stdout",
     "output_type": "stream",
     "text": [
      "00_core.ipynb\n",
      "01_ai_platform_constants.ipynb\n",
      "ai_platform_runner.ipynb\n",
      "CONTRIBUTING.md\n",
      "Dockerfile\n",
      "docs\n",
      "entry_point.ipynb\n",
      "gcp_runner\n",
      "index.ipynb\n",
      "kubernetes_runner.ipynb\n",
      "LICENSE\n",
      "local_runner.ipynb\n",
      "logfile.txt\n",
      "MANIFEST.in\n",
      "poll_kubernetes_logs.sh\n",
      "README.md\n",
      "sample_code.ipynb\n",
      "settings.ini\n",
      "setup.py\n",
      "template.yaml.jinja\n"
     ]
    },
    {
     "data": {
      "text/plain": [
       "0"
      ]
     },
     "execution_count": 17,
     "metadata": {},
     "output_type": "execute_result"
    }
   ],
   "source": [
    "#hide\n",
    "run_process(['ls'])"
   ]
  },
  {
   "cell_type": "code",
   "execution_count": 30,
   "metadata": {},
   "outputs": [],
   "source": [
    "#export\n",
    "\n",
    "def get_run_python_args(func, **kwargs):\n",
    "    package_name = get_package_name()\n",
    "    module_name = get_module_name()\n",
    "    function_name = func.__name__\n",
    "    args = ['python', \n",
    "         '-u',\n",
    "         '-m', \n",
    "         'gcp_runner.entry_point',\n",
    "         '--module-name=%s' % package_name + '.' + module_name,\n",
    "         '--function-name=%s' % function_name]\n",
    "    return args"
   ]
  },
  {
   "cell_type": "code",
   "execution_count": 33,
   "metadata": {},
   "outputs": [
    {
     "name": "stdout",
     "output_type": "stream",
     "text": [
      "Converted 00_core.ipynb.\n",
      "Converted 01_ai_platform_constants.ipynb.\n",
      "Converted ai_platform_runner.ipynb.\n",
      "Converted entry_point.ipynb.\n",
      "Converted index.ipynb.\n",
      "Converted kubernetes_runner.ipynb.\n",
      "Converted local_runner.ipynb.\n",
      "Converted sample_code.ipynb.\n"
     ]
    }
   ],
   "source": [
    "export_and_reload_all()"
   ]
  }
 ],
 "metadata": {
  "kernelspec": {
   "display_name": "Python 3",
   "language": "python",
   "name": "python3"
  },
  "language_info": {
   "codemirror_mode": {
    "name": "ipython",
    "version": 3
   },
   "file_extension": ".py",
   "mimetype": "text/x-python",
   "name": "python",
   "nbconvert_exporter": "python",
   "pygments_lexer": "ipython3",
   "version": "3.7.5"
  }
 },
 "nbformat": 4,
 "nbformat_minor": 4
}
