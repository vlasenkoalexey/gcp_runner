{
 "cells": [
  {
   "cell_type": "code",
   "execution_count": null,
   "metadata": {},
   "outputs": [],
   "source": [
    "# default_exp core"
   ]
  },
  {
   "cell_type": "markdown",
   "metadata": {},
   "source": [
    "# Core\n",
    "\n",
    "> API details."
   ]
  },
  {
   "cell_type": "code",
   "execution_count": null,
   "metadata": {},
   "outputs": [],
   "source": [
    "#hide\n",
    "from nbdev.showdoc import *"
   ]
  },
  {
   "cell_type": "code",
   "execution_count": null,
   "metadata": {},
   "outputs": [
    {
     "name": "stdout",
     "output_type": "stream",
     "text": [
      "Converted 00_core.ipynb.\n",
      "Converted 01_ai_platform_constants.ipynb.\n",
      "Converted ai_platform_runner.ipynb.\n",
      "Converted entry_point.ipynb.\n",
      "Converted index.ipynb.\n",
      "Converted kubernetes_runner.ipynb.\n",
      "Converted local_runner.ipynb.\n",
      "Converted sample_code_test.ipynb.\n"
     ]
    }
   ],
   "source": [
    "from nbdev.export import *\n",
    "notebook2script()"
   ]
  },
  {
   "cell_type": "code",
   "execution_count": null,
   "metadata": {},
   "outputs": [
    {
     "data": {
      "text/plain": [
       "PosixPath('/usr/local/google/home/alekseyv/vlasenkoalexey/gcp_runner/00_core.ipynb')"
      ]
     },
     "execution_count": null,
     "metadata": {},
     "output_type": "execute_result"
    }
   ],
   "source": [
    "#hide\n",
    "d = export_and_reload_all(silent=True)\n",
    "d['core'][0][1]"
   ]
  },
  {
   "cell_type": "code",
   "execution_count": null,
   "metadata": {},
   "outputs": [
    {
     "data": {
      "text/plain": [
       "[ModuleInfo(module_finder=FileFinder('gcp_runner'), name='_nbdev', ispkg=False),\n",
       " ModuleInfo(module_finder=FileFinder('gcp_runner'), name='ai_platform_constants', ispkg=False),\n",
       " ModuleInfo(module_finder=FileFinder('gcp_runner'), name='ai_platform_runner', ispkg=False),\n",
       " ModuleInfo(module_finder=FileFinder('gcp_runner'), name='core', ispkg=False),\n",
       " ModuleInfo(module_finder=FileFinder('gcp_runner'), name='entry_point', ispkg=False),\n",
       " ModuleInfo(module_finder=FileFinder('gcp_runner'), name='index', ispkg=False),\n",
       " ModuleInfo(module_finder=FileFinder('gcp_runner'), name='kubernetes_runner', ispkg=False),\n",
       " ModuleInfo(module_finder=FileFinder('gcp_runner'), name='local_runner', ispkg=False),\n",
       " ModuleInfo(module_finder=FileFinder('gcp_runner'), name='run_local', ispkg=False),\n",
       " ModuleInfo(module_finder=FileFinder('gcp_runner'), name='sample_code', ispkg=False),\n",
       " ModuleInfo(module_finder=FileFinder('gcp_runner'), name='sample_code_test', ispkg=False)]"
      ]
     },
     "execution_count": null,
     "metadata": {},
     "output_type": "execute_result"
    }
   ],
   "source": [
    "list(pkgutil.iter_modules([get_package_name()]))"
   ]
  },
  {
   "cell_type": "code",
   "execution_count": null,
   "metadata": {},
   "outputs": [
    {
     "data": {
      "text/plain": [
       "'gcp_runner'"
      ]
     },
     "execution_count": null,
     "metadata": {},
     "output_type": "execute_result"
    }
   ],
   "source": [
    "#hide\n",
    "get_package_name()"
   ]
  },
  {
   "cell_type": "code",
   "execution_count": null,
   "metadata": {},
   "outputs": [],
   "source": [
    "#export\n",
    "import IPython.core\n",
    "import json\n",
    "import os.path\n",
    "import re\n",
    "import ipykernel\n",
    "import requests\n",
    "\n",
    "# Alternative that works for both Python 2 and 3:\n",
    "from requests.compat import urljoin\n",
    "\n",
    "try:  # Python 3 (see Edit2 below for why this may not work in Python 2)\n",
    "    from notebook.notebookapp import list_running_servers\n",
    "except ImportError:  # Python 2\n",
    "    import warnings\n",
    "    from IPython.utils.shimmodule import ShimWarning\n",
    "    with warnings.catch_warnings():\n",
    "        warnings.simplefilter(\"ignore\", category=ShimWarning)\n",
    "        from IPython.html.notebookapp import list_running_servers\n",
    "\n",
    "\n",
    "def get_notebook_path():\n",
    "    \"\"\"\n",
    "    Return the full path of the jupyter notebook.\n",
    "    !!! Doesn't work from VS code.\n",
    "    \"\"\"\n",
    "    kernel_id = re.search('kernel-(.*).json',\n",
    "                          ipykernel.connect.get_connection_file()).group(1)\n",
    "    servers = list_running_servers()\n",
    "    for ss in servers:\n",
    "        try:\n",
    "            response = requests.get(urljoin(ss['url'], 'api/sessions'),\n",
    "                                    params={'token': ss.get('token', '')}, timeout=1)\n",
    "            for nn in json.loads(response.text):\n",
    "                if nn['kernel']['id'] == kernel_id:\n",
    "                    relative_path = nn['notebook']['path']\n",
    "                    return os.path.join(ss['notebook_dir'], relative_path)\n",
    "        except Exception as e:\n",
    "            pass\n"
   ]
  },
  {
   "cell_type": "code",
   "execution_count": null,
   "metadata": {},
   "outputs": [
    {
     "data": {
      "text/plain": [
       "'/usr/local/google/home/alekseyv/vlasenkoalexey/gcp_runner/00_core.ipynb'"
      ]
     },
     "execution_count": null,
     "metadata": {},
     "output_type": "execute_result"
    }
   ],
   "source": [
    "#hide\n",
    "get_notebook_path()"
   ]
  },
  {
   "cell_type": "code",
   "execution_count": null,
   "metadata": {},
   "outputs": [],
   "source": [
    "#export\n",
    "import nbdev.export\n",
    "\n",
    "def find_default_export_for_notebook(notebook_path):\n",
    "    nb = nbdev.export.read_nb(notebook_path)\n",
    "    default = nbdev.export.find_default_export(nb['cells'])\n",
    "    return default\n",
    "\n",
    "def get_module_name():\n",
    "    return find_default_export_for_notebook(get_notebook_path())"
   ]
  },
  {
   "cell_type": "code",
   "execution_count": null,
   "metadata": {},
   "outputs": [
    {
     "data": {
      "text/plain": [
       "'core'"
      ]
     },
     "execution_count": null,
     "metadata": {},
     "output_type": "execute_result"
    }
   ],
   "source": [
    "#hide\n",
    "get_module_name()"
   ]
  },
  {
   "cell_type": "code",
   "execution_count": null,
   "metadata": {},
   "outputs": [],
   "source": [
    "#export\n",
    "\n",
    "import pkgutil\n",
    "import importlib\n",
    "import time\n",
    "import nbdev.imports\n",
    "from nbdev.export import *\n",
    "\n",
    "def get_package_name():\n",
    "    \"Returns name of the current package\"\n",
    "    # see logic in https://github.com/fastai/nbdev/blob/master/nbdev/export.py\n",
    "    return str(nbdev.imports.Config().lib_path).split('/')[-1]\n",
    "\n",
    "def reload_package_modules(package_name):\n",
    "    \"Dynamically reloads package `package_name`.\"\n",
    "    # Reload order matters. First we need to reload all modules except \n",
    "    # the current one, and then reload current one. Otherwise reload might\n",
    "    # fail if current module refers to other module that has new functions added.\n",
    "    current_module_name = get_module_name()\n",
    "    current_module = None\n",
    "    for _, module_name, _ in (pkgutil.iter_modules([package_name])):\n",
    "        if current_module_name == module_name:\n",
    "            current_module\n",
    "        else:\n",
    "            module = importlib.import_module(package_name + '.' + module_name)\n",
    "            importlib.reload(module)\n",
    "    if current_module is not None:\n",
    "        importlib.reload(current_module)\n",
    "        \n",
    "def export_and_reload_all(silent=False, ignore_errors=False):\n",
    "    \"Converts all notebooks to modules, and reloads all modules\"\n",
    "    if nbdev.imports.in_ipython():\n",
    "        notebook2script(silent=silent)\n",
    "        # Need to reload packages in order\n",
    "        # Looks like when it is called with to_dict, it doesn't actually update files.\n",
    "        module_name_dict = notebook2script(silent=True, to_dict=True)\n",
    "        time.sleep(1)\n",
    "        #reload_package_modules(get_package_name())\n",
    "        module_name_to_notebook_path = \\\n",
    "            list ((key,str(value[0][1])) for key, value in module_name_dict.items())\n",
    "        sorted_list = sorted(module_name_to_notebook_path, key=lambda pair:pair[1])\n",
    "        package_name = get_package_name()\n",
    "        for (module_name, _) in sorted_list:\n",
    "            if ignore_errors:\n",
    "                try:\n",
    "                    module = importlib.import_module(package_name + '.' + module_name)\n",
    "                    importlib.reload(module)\n",
    "                except Error as e:\n",
    "                    print (e)\n",
    "            else:\n",
    "                module = importlib.import_module(package_name + '.' + module_name)\n",
    "                importlib.reload(module)\n"
   ]
  },
  {
   "cell_type": "code",
   "execution_count": null,
   "metadata": {},
   "outputs": [
    {
     "name": "stdout",
     "output_type": "stream",
     "text": [
      "Converted 00_core.ipynb.\n",
      "Converted 01_ai_platform_constants.ipynb.\n",
      "Converted ai_platform_runner.ipynb.\n",
      "Converted entry_point.ipynb.\n",
      "Converted index.ipynb.\n",
      "Converted kubernetes_runner.ipynb.\n",
      "Converted local_runner.ipynb.\n",
      "Converted sample_code_test.ipynb.\n"
     ]
    },
    {
     "data": {
      "text/plain": [
       "[('core',\n",
       "  '/usr/local/google/home/alekseyv/vlasenkoalexey/gcp_runner/00_core.ipynb'),\n",
       " ('ai_platform_constants',\n",
       "  '/usr/local/google/home/alekseyv/vlasenkoalexey/gcp_runner/01_ai_platform_constants.ipynb'),\n",
       " ('ai_platform_runner',\n",
       "  '/usr/local/google/home/alekseyv/vlasenkoalexey/gcp_runner/ai_platform_runner.ipynb'),\n",
       " ('entry_point',\n",
       "  '/usr/local/google/home/alekseyv/vlasenkoalexey/gcp_runner/entry_point.ipynb'),\n",
       " ('index',\n",
       "  '/usr/local/google/home/alekseyv/vlasenkoalexey/gcp_runner/index.ipynb'),\n",
       " ('kubernetes_runner',\n",
       "  '/usr/local/google/home/alekseyv/vlasenkoalexey/gcp_runner/kubernetes_runner.ipynb'),\n",
       " ('local_runner',\n",
       "  '/usr/local/google/home/alekseyv/vlasenkoalexey/gcp_runner/local_runner.ipynb'),\n",
       " ('sample_code_test',\n",
       "  '/usr/local/google/home/alekseyv/vlasenkoalexey/gcp_runner/sample_code_test.ipynb')]"
      ]
     },
     "execution_count": null,
     "metadata": {},
     "output_type": "execute_result"
    }
   ],
   "source": [
    "module_name_dict = notebook2script(silent=False, to_dict=True)\n",
    "l = list ((key,str(value[0][1])) for key, value in module_name_dict.items())\n",
    "sorted(l, key=lambda pair:pair[1])"
   ]
  },
  {
   "cell_type": "code",
   "execution_count": null,
   "metadata": {},
   "outputs": [],
   "source": []
  },
  {
   "cell_type": "code",
   "execution_count": null,
   "metadata": {},
   "outputs": [
    {
     "name": "stdout",
     "output_type": "stream",
     "text": [
      "Converted 00_core.ipynb.\n",
      "Converted 01_ai_platform_constants.ipynb.\n",
      "Converted ai_platform_runner.ipynb.\n",
      "Converted entry_point.ipynb.\n",
      "Converted index.ipynb.\n",
      "Converted kubernetes_runner.ipynb.\n",
      "Converted local_runner.ipynb.\n",
      "Converted sample_code_test.ipynb.\n"
     ]
    }
   ],
   "source": [
    "export_and_reload_all()"
   ]
  },
  {
   "cell_type": "code",
   "execution_count": null,
   "metadata": {},
   "outputs": [],
   "source": [
    "#export\n",
    "\n",
    "import os\n",
    "import subprocess\n",
    "import io\n",
    "\n",
    "from threading import Thread\n",
    "from queue import Queue \n",
    "\n",
    "def _reader(pipe, queue, pipe_name):\n",
    "    try:\n",
    "        with pipe:\n",
    "            for line in iter(pipe.readline, b''):\n",
    "                queue.put((pipe_name, line))\n",
    "    finally:\n",
    "        queue.put(None)\n",
    "        \n",
    "def run_process(args, **kwargs):\n",
    "    proc = subprocess.Popen(\n",
    "        args, \n",
    "        stdout=subprocess.PIPE, \n",
    "        stderr=subprocess.PIPE, \n",
    "        bufsize=1)\n",
    "    \n",
    "    q = Queue()\n",
    "    Thread(target=_reader, args=[proc.stdout, q, 'stdout']).start()\n",
    "    Thread(target=_reader, args=[proc.stderr, q, 'stderr']).start()\n",
    "    #for _ in range(2):\n",
    "    for source, line in iter(q.get, None):\n",
    "        line = line.decode('utf-8').rstrip('\\r\\n')\n",
    "        if source == 'stderr':\n",
    "            print(\"\\x1b[31m{}\\x1b[0m\".format(line))\n",
    "        else:\n",
    "            print(line)\n",
    "    \n",
    "    return proc.poll()"
   ]
  },
  {
   "cell_type": "code",
   "execution_count": null,
   "metadata": {},
   "outputs": [
    {
     "name": "stdout",
     "output_type": "stream",
     "text": [
      "00_core.ipynb\n",
      "01_ai_platform_constants.ipynb\n",
      "ai_platform_runner.ipynb\n",
      "CONTRIBUTING.md\n",
      "Dockerfile\n",
      "docs\n",
      "entry_point.ipynb\n",
      "gcp_runner\n",
      "index.ipynb\n",
      "kubernetes_runner.ipynb\n",
      "LICENSE\n",
      "local_runner.ipynb\n",
      "logfile.txt\n",
      "MANIFEST.in\n",
      "poll_kubernetes_logs.sh\n",
      "README.md\n",
      "sample_code.ipynb\n",
      "settings.ini\n",
      "setup.py\n",
      "template.yaml.jinja\n"
     ]
    },
    {
     "data": {
      "text/plain": [
       "0"
      ]
     },
     "execution_count": null,
     "metadata": {},
     "output_type": "execute_result"
    }
   ],
   "source": [
    "#hide\n",
    "run_process(['ls'])"
   ]
  },
  {
   "cell_type": "code",
   "execution_count": null,
   "metadata": {},
   "outputs": [],
   "source": [
    "#export\n",
    "\n",
    "def get_run_python_args(func, **kwargs):\n",
    "    package_name = get_package_name()\n",
    "    module_name = get_module_name()\n",
    "    function_name = func.__name__\n",
    "    args = ['python', \n",
    "         '-u',\n",
    "         '-m', \n",
    "         'gcp_runner.entry_point',\n",
    "         '--module-name=%s' % package_name + '.' + module_name,\n",
    "         '--function-name=%s' % function_name]\n",
    "    return args"
   ]
  },
  {
   "cell_type": "code",
   "execution_count": null,
   "metadata": {},
   "outputs": [
    {
     "name": "stdout",
     "output_type": "stream",
     "text": [
      "Converted 00_core.ipynb.\n",
      "Converted 01_ai_platform_constants.ipynb.\n",
      "Converted ai_platform_runner.ipynb.\n",
      "Converted entry_point.ipynb.\n",
      "Converted index.ipynb.\n",
      "Converted kubernetes_runner.ipynb.\n",
      "Converted local_runner.ipynb.\n",
      "Converted sample_code_test.ipynb.\n"
     ]
    }
   ],
   "source": [
    "export_and_reload_all()"
   ]
  },
  {
   "cell_type": "code",
   "execution_count": null,
   "metadata": {},
   "outputs": [],
   "source": [
    "#export\n",
    "def build_and_push_docker_image(docker_file_path, image_uri, dry_run=False):\n",
    "    build_docker_args = ['docker', 'build', '-f', docker_file_path, '-t', image_uri, './']\n",
    "    print('Building Docker image:')\n",
    "    print(' '.join(build_docker_args))\n",
    "    if not dry_run:\n",
    "        result = run_process(build_docker_args)\n",
    "        if result:\n",
    "            return result\n",
    "    push_docker_args = ['docker', 'push', image_uri]\n",
    "    print('Pushing Docker image:')\n",
    "    print(' '.join(push_docker_args))\n",
    "    if not dry_run:\n",
    "        result = run_process(push_docker_args)\n",
    "        if result:\n",
    "            return result\n",
    "    return 0"
   ]
  }
 ],
 "metadata": {
  "kernelspec": {
   "display_name": "Python 3",
   "language": "python",
   "name": "python3"
  }
 },
 "nbformat": 4,
 "nbformat_minor": 4
}
