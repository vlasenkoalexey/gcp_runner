{
 "cells": [
  {
   "cell_type": "code",
   "execution_count": null,
   "metadata": {},
   "outputs": [],
   "source": [
    "# default_exp core"
   ]
  },
  {
   "cell_type": "markdown",
   "metadata": {},
   "source": [
    "# module name here\n",
    "\n",
    "> API details."
   ]
  },
  {
   "cell_type": "code",
   "execution_count": null,
   "metadata": {},
   "outputs": [],
   "source": [
    "#hide\n",
    "from nbdev.showdoc import *\n"
   ]
  },
  {
   "cell_type": "code",
   "execution_count": 7,
   "metadata": {},
   "outputs": [
    {
     "name": "stdout",
     "output_type": "stream",
     "text": [
      "Converted 00_core.ipynb.\n",
      "Converted ai_platform_constants.ipynb.\n",
      "Converted ai_platform_runner.ipynb.\n",
      "Converted entry_point.ipynb.\n",
      "Converted index.ipynb.\n",
      "Converted local_runner.ipynb.\n",
      "Converted sample_code.ipynb.\n"
     ]
    }
   ],
   "source": [
    "notebook2script()"
   ]
  },
  {
   "cell_type": "code",
   "execution_count": 11,
   "metadata": {},
   "outputs": [],
   "source": [
    "#export\n",
    "\n",
    "import pkgutil\n",
    "import importlib\n",
    "import time\n",
    "import nbdev.imports\n",
    "from nbdev.export import *\n",
    "\n",
    "def get_package_name():\n",
    "    # see logic in https://github.com/fastai/nbdev/blob/master/nbdev/export.py\n",
    "    return str(nbdev.imports.Config().lib_path).split('/')[-1]\n",
    "\n",
    "def reload_package_modules(package_name):\n",
    "    for _, module_name, _ in (pkgutil.iter_modules([package_name])):\n",
    "        module = importlib.import_module(package_name + '.' + module_name)\n",
    "        importlib.reload(module)\n",
    "        \n",
    "def export_and_reload_all():\n",
    "    if nbdev.imports.in_ipython():\n",
    "        notebook2script()\n",
    "        time.sleep(1)\n",
    "        reload_package_modules(get_package_name())"
   ]
  },
  {
   "cell_type": "code",
   "execution_count": 12,
   "metadata": {},
   "outputs": [
    {
     "name": "stdout",
     "output_type": "stream",
     "text": [
      "Converted 00_core.ipynb.\n",
      "Converted ai_platform_constants.ipynb.\n",
      "Converted ai_platform_runner.ipynb.\n",
      "Converted entry_point.ipynb.\n",
      "Converted index.ipynb.\n",
      "Converted local_runner.ipynb.\n",
      "Converted sample_code.ipynb.\n",
      "scale_tier,ScaleTier.BASIC\n",
      "master_machine_type,None\n",
      "master_image_uri,None\n",
      "master_accelerator_type,None\n",
      "master_accelerator_count,None\n",
      "parameter_machine_type,None\n",
      "parameter_machine_count,None\n",
      "parameter_image_uri,None\n",
      "parameter_accelerator_type,AcceleratorType.NVIDIA_TESLA_T4\n",
      "parameter_accelerator_count,None\n",
      "worker_machine_type,None\n",
      "worker_machine_count,None\n",
      "worker_image_uri,None\n",
      "work_accelerator_type,None\n",
      "work_accelerator_count,None\n",
      "use_chief_in_tf_config,True\n",
      "args,['--scale-tier=basic', '--parameter-accelerator-type=nvidia-tesla-t4']\n"
     ]
    }
   ],
   "source": [
    "export_and_reload_all()"
   ]
  }
 ],
 "metadata": {
  "kernelspec": {
   "display_name": "Python 3",
   "language": "python",
   "name": "python3"
  },
  "language_info": {
   "codemirror_mode": {
    "name": "ipython",
    "version": 3
   },
   "file_extension": ".py",
   "mimetype": "text/x-python",
   "name": "python",
   "nbconvert_exporter": "python",
   "pygments_lexer": "ipython3",
   "version": "3.7.5"
  }
 },
 "nbformat": 4,
 "nbformat_minor": 4
}
