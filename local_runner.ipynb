{
 "cells": [
  {
   "cell_type": "code",
   "execution_count": null,
   "metadata": {},
   "outputs": [],
   "source": [
    "# default_exp local_runner"
   ]
  },
  {
   "cell_type": "code",
   "execution_count": null,
   "metadata": {},
   "outputs": [
    {
     "name": "stdout",
     "output_type": "stream",
     "text": [
      "/usr/local/google/home/alekseyv/vlasenkoalexey/gcp_runner/local_runner.ipynb\n"
     ]
    }
   ],
   "source": [
    "#hide\n",
    "print(get_notebook_path())"
   ]
  },
  {
   "cell_type": "code",
   "execution_count": null,
   "metadata": {},
   "outputs": [],
   "source": [
    "#export\n",
    "from gcp_runner.core import get_run_python_args, run_process\n",
    "\n",
    "def run_python(func, python_binary='python', **kwargs):\n",
    "    args = get_run_python_args(func, python_binary, **kwargs)\n",
    "    print('Running as python script:')\n",
    "    print(' '.join(args))\n",
    "    run_process(args)"
   ]
  },
  {
   "cell_type": "code",
   "execution_count": null,
   "metadata": {},
   "outputs": [],
   "source": [
    "from gcp_runner.core import export_and_reload_all\n",
    "export_and_reload_all(silent=True)"
   ]
  },
  {
   "cell_type": "code",
   "execution_count": null,
   "metadata": {},
   "outputs": [],
   "source": [
    "#export\n",
    "import os\n",
    "from gcp_runner.core import get_run_python_args, run_process, get_package_name, build_and_push_docker_image\n",
    "\n",
    "def run_docker(func, image_uri, build_docker_file=None, push_docker=False, docker_args=None, dry_run=False, **kwargs):\n",
    "    if build_docker_file is not None:\n",
    "        result = build_and_push_docker_image(build_docker_file, image_uri, push_docker, dry_run=dry_run)\n",
    "        if result:\n",
    "            return result\n",
    "    \n",
    "    package_name = get_package_name()\n",
    "    args = ['docker', 'run', '-v', \n",
    "            os.getcwd() + '/%s:/%s' % (package_name, package_name)]\n",
    "    if docker_args:\n",
    "        args.extend(docker_args)\n",
    "    args.append(image_uri)\n",
    "    run_python_args = get_run_python_args(func, **kwargs)\n",
    "    args.extend(run_python_args)\n",
    "    print('Running in Docker container:')\n",
    "    print(' '.join(args))\n",
    "    if not dry_run:\n",
    "        return run_process(args) \n",
    "    return 0\n",
    "    "
   ]
  },
  {
   "cell_type": "code",
   "execution_count": null,
   "metadata": {},
   "outputs": [],
   "source": [
    "#export\n",
    "from gcp_runner.core import get_run_python_args, run_process, get_package_name, get_module_name\n",
    "\n",
    "#IMPORTANT: we'll need to either copy entry_point.py to package,\n",
    "# or tell user to declare it and call into similar entry_point logic manually.\n",
    "#\n",
    "# !!! Doesn't work because of https://github.com/GoogleCloudPlatform/cloudml-samples/issues/476\n",
    "def run_on_ai_platform(func, job_dir):\n",
    "    package_name = get_package_name()\n",
    "    module_name = get_module_name()\n",
    "    function_name = func.__name__\n",
    "    args = ['gcloud', 'ai-platform', 'local', 'train',\n",
    "           \"--job-dir=%s\" % job_dir,\n",
    "           \"--module-name=%s.entry_point\" % package_name,\n",
    "           \"--package-path=%s/%s \" % (os.getcwd(), package_name),\n",
    "           \"--\",\n",
    "           \"--job-dir=%s\" % job_dir, \n",
    "           \"--module-name=%s.%s\" % (package_name, module_name),\n",
    "           \"--function-name=%s\" % function_name]\n",
    "    print('Running training job using local Cloud AI:')\n",
    "    print(' '.join(args).replace(' --', '\\n --').replace('\\n', ' \\\\ \\n'))\n",
    "    run_process(args)\n",
    "    "
   ]
  },
  {
   "cell_type": "code",
   "execution_count": null,
   "metadata": {},
   "outputs": [
    {
     "name": "stdout",
     "output_type": "stream",
     "text": [
      "Converted 00_core.ipynb.\n",
      "Converted 01_ai_platform_constants.ipynb.\n",
      "Converted ai_platform_runner.ipynb.\n",
      "Converted entry_point.ipynb.\n",
      "Converted index.ipynb.\n",
      "Converted kubernetes_runner.ipynb.\n",
      "Converted local_runner.ipynb.\n",
      "Converted sample_code.ipynb.\n"
     ]
    }
   ],
   "source": [
    "from nbdev.export import *\n",
    "notebook2script()\n"
   ]
  }
 ],
 "metadata": {
  "kernelspec": {
   "display_name": "Python 3.7.5 64-bit",
   "language": "python",
   "name": "python37564bitc34665d47f6a46efaf2c998849165367"
  }
 },
 "nbformat": 4,
 "nbformat_minor": 4
}
