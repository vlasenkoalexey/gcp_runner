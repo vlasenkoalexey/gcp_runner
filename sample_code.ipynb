{
 "cells": [
  {
   "cell_type": "code",
   "execution_count": 2,
   "metadata": {},
   "outputs": [],
   "source": [
    "# default_exp sample_code"
   ]
  },
  {
   "cell_type": "code",
   "execution_count": 34,
   "metadata": {},
   "outputs": [],
   "source": [
    "#export\n",
    "import time\n",
    "\n",
    "def some_function_to_run_on_cloud():\n",
    "    print('running sample_code.some_function_to_run_on_cloud')\n",
    "    print('in main before sleep 1')\n",
    "    time.sleep(2)\n",
    "    print('in main after sleep 2')\n",
    "    time.sleep(5)\n",
    "    print('in main after sleep 3')\n",
    "    time.sleep(5)\n",
    "    print('in main after sleep 4')"
   ]
  },
  {
   "cell_type": "code",
   "execution_count": 4,
   "metadata": {},
   "outputs": [
    {
     "name": "stdout",
     "output_type": "stream",
     "text": [
      "in main before sleep 1\n",
      "in main after sleep 2\n",
      "in main after sleep 3\n",
      "in main after sleep 4\n"
     ]
    }
   ],
   "source": [
    "#hide\n",
    "some_function_to_run_on_cloud()"
   ]
  },
  {
   "cell_type": "code",
   "execution_count": 32,
   "metadata": {},
   "outputs": [
    {
     "name": "stdout",
     "output_type": "stream",
     "text": [
      "running entrypoint function: gcp_runner.sample_code.some_function_to_run_on_cloud\n",
      "in main before sleep 1\n",
      "in main after sleep 2\n",
      "in main after sleep 3\n",
      "in main after sleep 4\n"
     ]
    }
   ],
   "source": [
    "!python3 -m gcp_runner.entry_point --module-name='gcp_runner.sample_code' --function-name='some_function_to_run_on_cloud'"
   ]
  },
  {
   "cell_type": "code",
   "execution_count": 38,
   "metadata": {},
   "outputs": [
    {
     "name": "stdout",
     "output_type": "stream",
     "text": [
      "running entrypoint function: gcp_runner.sample_code.some_function_to_run_on_cloud\n",
      "in main before sleep 1\n",
      "in main after sleep 2\n",
      "in main after sleep 3\n",
      "in main after sleep 4\n"
     ]
    }
   ],
   "source": [
    "!docker run -v `pwd`/gcp_runner:/gcp_runner 'gcr.io/deeplearning-platform-release/tf2-cpu.2-1' python3 -u -m gcp_runner.entry_point --module-name='gcp_runner.sample_code' --function-name='some_function_to_run_on_cloud'"
   ]
  },
  {
   "cell_type": "code",
   "execution_count": 57,
   "metadata": {},
   "outputs": [
    {
     "name": "stdout",
     "output_type": "stream",
     "text": [
      "<subprocess.Popen object at 0x7f6057e2c750>\n",
      "running entrypoint function: gcp_runner.sample_code.some_function_to_run_on_cloud\n",
      "in main before sleep 1\n"
     ]
    }
   ],
   "source": [
    "!gcloud ai-platform local train --job-dir='job-dir' --module-name=gcp_runner.entry_point \\\n",
    "    --package-path=`pwd`/gcp_runner -- \\\n",
    "    --module-name='gcp_runner.sample_code' --function-name='some_function_to_run_on_cloud'    "
   ]
  },
  {
   "cell_type": "code",
   "execution_count": 66,
   "metadata": {},
   "outputs": [
    {
     "name": "stdout",
     "output_type": "stream",
     "text": [
      "/usr/local/google/home/alekseyv/vlasenkoalexey/gcp_runner\n"
     ]
    }
   ],
   "source": [
    "!pwd"
   ]
  },
  {
   "cell_type": "code",
   "execution_count": null,
   "metadata": {},
   "outputs": [
    {
     "name": "stdout",
     "output_type": "stream",
     "text": [
      "Converted 00_core.ipynb.\n",
      "Converted ai_platform_constants.ipynb.\n",
      "Converted ai_platform_runner.ipynb.\n",
      "Converted entry_point.ipynb.\n",
      "Converted index.ipynb.\n",
      "Converted local_runner.ipynb.\n",
      "Converted sample_code.ipynb.\n",
      "['--job-dir=gs://alekseyv-scalableai-dev-criteo-model-bucket/test-job-dir', '--scale-tier=basic', '--master-image-uri=gcr.io/deeplearning-platform-release/tf2-cpu.2-1', '--use-chief-in-tf-config=True']\n",
      "gcr.io/deeplearning-platform-release/tf2-cpu.2-1\n",
      "running training job using Docker image Google Cloud Platform AI:\n",
      "gcloud ai-platform jobs submit training ai_platform_runner_20200325_165506 \\ \n",
      " --stream-logs \\ \n",
      " --job-dir=gs://alekseyv-scalableai-dev-criteo-model-bucket/test-job-dir \\ \n",
      " --scale-tier=basic \\ \n",
      " --master-image-uri=gcr.io/deeplearning-platform-release/tf2-cpu.2-1 \\ \n",
      " --use-chief-in-tf-config=True \\ \n",
      " -- python3 -u -m gcp_runner.entry_point \\ \n",
      " --module-name=gcp_runner.sample_code \\ \n",
      " --function-name=some_function_to_run_on_cloud \\ \n",
      " --job-dir=gs://alekseyv-scalableai-dev-criteo-model-bucket/test-job-dir\n",
      "Converted 00_core.ipynb.\n",
      "Converted ai_platform_constants.ipynb.\n",
      "Converted ai_platform_runner.ipynb.\n",
      "Converted entry_point.ipynb.\n",
      "Converted index.ipynb.\n",
      "Converted local_runner.ipynb.\n",
      "Converted sample_code.ipynb.\n",
      "\u001b[31mJob [ai_platform_runner_20200325_165506] submitted successfully.\u001b[0m\n",
      "\u001b[31mINFO\t2020-03-25 16:55:08 -0700\tservice\t\tValidating job requirements...\u001b[0m\n",
      "\u001b[31mINFO\t2020-03-25 16:55:10 -0700\tservice\t\tJob creation request has been successfully validated.\u001b[0m\n",
      "\u001b[31mINFO\t2020-03-25 16:55:10 -0700\tservice\t\tJob ai_platform_runner_20200325_165506 is queued.\u001b[0m\n",
      "\u001b[31mINFO\t2020-03-25 16:55:10 -0700\tservice\t\tWaiting for job to be provisioned.\u001b[0m\n",
      "\u001b[31mINFO\t2020-03-25 16:55:12 -0700\tservice\t\tWaiting for training program to start.\u001b[0m\n"
     ]
    }
   ],
   "source": [
    "#hide\n",
    "import time\n",
    "\n",
    "from gcp_runner import core\n",
    "\n",
    "core.export_and_reload_all()\n",
    "\n",
    "#gcp_runner.run_local.run_python(some_function_to_run_on_cloud)\n",
    "\n",
    "# gcp_runner.run_local.run_docker(\n",
    "#     some_function_to_run_on_cloud, \n",
    "#     'gcr.io/deeplearning-platform-release/tf2-cpu.2-1')\n",
    "\n",
    "# gcp_runner.local_runner.run_on_ai_platform(\n",
    "#     some_function_to_run_on_cloud, \n",
    "#     'job-dir')\n",
    "\n",
    "# need to put package to docker container\n",
    "# gcp_runner.ai_platform_runner.run_docker_image(\n",
    "#     some_function_to_run_on_cloud,\n",
    "#     'gs://alekseyv-scalableai-dev-criteo-model-bucket/test-job-dir',\n",
    "#     master_image_uri='gcr.io/deeplearning-platform-release/tf2-cpu.2-1')\n",
    "\n",
    "gcp_runner.ai_platform_runner.run_package(\n",
    "    some_function_to_run_on_cloud,\n",
    "    'gs://alekseyv-scalableai-dev-criteo-model-bucket/test-job-dir')"
   ]
  },
  {
   "cell_type": "code",
   "execution_count": 100,
   "metadata": {},
   "outputs": [
    {
     "name": "stdout",
     "output_type": "stream",
     "text": [
      "ai_platform_runner.py  __init__.py\t_nbdev.py     sample_code.py\n",
      "core.py\t\t       __init__.pyc\t__pycache__   sample_code.pyc\n",
      "entry_point.py\t       local_runner.py\trun_local.py\n"
     ]
    }
   ],
   "source": [
    "!ls /usr/local/google/home/alekseyv/vlasenkoalexey/gcp_runner/gcp_runner"
   ]
  },
  {
   "cell_type": "code",
   "execution_count": 65,
   "metadata": {},
   "outputs": [
    {
     "name": "stdout",
     "output_type": "stream",
     "text": [
      "<subprocess.Popen object at 0x7fade12ae810>\n"
     ]
    }
   ],
   "source": [
    "!gcloud ai-platform local train --job-dir=job-dir --module-name=gcp_runner.sample_code --package-path=/usr/local/google/home/alekseyv/vlasenkoalexey/gcp_runner/gcp_runner -- --job-dir=job-dir --module-name=gcp_runner.entry_point --function-name=some_function_to_run_on_cloud"
   ]
  },
  {
   "cell_type": "code",
   "execution_count": 81,
   "metadata": {},
   "outputs": [
    {
     "name": "stdout",
     "output_type": "stream",
     "text": [
      "<subprocess.Popen object at 0x7f0a7749e690>\n",
      "running entrypoint function: gcp_runner.sample_code.some_function_to_run_on_cloud\n",
      "in main before sleep 1\n"
     ]
    }
   ],
   "source": [
    "!bash gcloud ai-platform local train --job-dir='job-dir' --module-name='gcp_runner.entry_point' --package-path='/usr/local/google/home/alekseyv/vlasenkoalexey/gcp_runner/gcp_runner' -- --job-dir='job-dir' --module-name=gcp_runner.sample_code --function-name=some_function_to_run_on_cloud"
   ]
  },
  {
   "cell_type": "code",
   "execution_count": 75,
   "metadata": {},
   "outputs": [
    {
     "name": "stdout",
     "output_type": "stream",
     "text": [
      "<subprocess.Popen object at 0x7efea74df610>\n",
      "running entrypoint function: gcp_runner.sample_code.some_function_to_run_on_cloud\n",
      "in main before sleep 1\n"
     ]
    }
   ],
   "source": [
    "!gcloud ai-platform local train --job-dir=job-dir --module-name=gcp_runner.entry_point --package-path=/usr/local/google/home/alekseyv/vlasenkoalexey/gcp_runner/gcp_runner  -- --job-dir=job-dir --module-name=gcp_runner.sample_code --function-name=some_function_to_run_on_cloud"
   ]
  },
  {
   "cell_type": "code",
   "execution_count": 45,
   "metadata": {},
   "outputs": [
    {
     "name": "stdout",
     "output_type": "stream",
     "text": [
      "Converted 00_core.ipynb.\n",
      "Converted entry_point.ipynb.\n",
      "Converted index.ipynb.\n",
      "Converted run_local.ipynb.\n",
      "Converted sample_code.ipynb.\n"
     ]
    }
   ],
   "source": [
    "from nbdev.export import *\n",
    "notebook2script()"
   ]
  }
 ],
 "metadata": {
  "kernelspec": {
   "display_name": "Python 3.7.5 64-bit",
   "language": "python",
   "name": "python37564bitc34665d47f6a46efaf2c998849165367"
  },
  "language_info": {
   "codemirror_mode": {
    "name": "ipython",
    "version": 3
   },
   "file_extension": ".py",
   "mimetype": "text/x-python",
   "name": "python",
   "nbconvert_exporter": "python",
   "pygments_lexer": "ipython3",
   "version": "3.7.5"
  }
 },
 "nbformat": 4,
 "nbformat_minor": 4
}
