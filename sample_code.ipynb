{
 "cells": [
  {
   "cell_type": "code",
   "execution_count": null,
   "metadata": {},
   "outputs": [],
   "source": [
    "# default_exp sample_code"
   ]
  },
  {
   "cell_type": "code",
   "execution_count": null,
   "metadata": {},
   "outputs": [],
   "source": [
    "#export\n",
    "import time\n",
    "\n",
    "def some_function_to_run_on_cloud():\n",
    "    print('running sample_code.some_function_to_run_on_cloud')\n",
    "    print('in main before sleep 1')\n",
    "    time.sleep(2)\n",
    "    print('in main after sleep 2')\n",
    "    time.sleep(5)\n",
    "    print('in main after sleep 3')\n",
    "    time.sleep(5)\n",
    "    print('in main after sleep 4')"
   ]
  },
  {
   "cell_type": "code",
   "execution_count": null,
   "metadata": {},
   "outputs": [],
   "source": [
    "#hide\n",
    "some_function_to_run_on_cloud()"
   ]
  },
  {
   "cell_type": "code",
   "execution_count": null,
   "metadata": {},
   "outputs": [],
   "source": [
    "!python3 -m gcp_runner.entry_point --module-name='gcp_runner.sample_code' --function-name='some_function_to_run_on_cloud'"
   ]
  },
  {
   "cell_type": "code",
   "execution_count": null,
   "metadata": {},
   "outputs": [],
   "source": [
    "!docker run -v `pwd`/gcp_runner:/gcp_runner 'gcr.io/deeplearning-platform-release/tf2-cpu.2-1' python3 -u -m gcp_runner.entry_point --module-name='gcp_runner.sample_code' --function-name='some_function_to_run_on_cloud'"
   ]
  },
  {
   "cell_type": "code",
   "execution_count": null,
   "metadata": {},
   "outputs": [],
   "source": [
    "!gcloud ai-platform local train --job-dir='job-dir' --module-name=gcp_runner.entry_point \\\n",
    "    --package-path=`pwd`/gcp_runner -- \\\n",
    "    --module-name='gcp_runner.sample_code' --function-name='some_function_to_run_on_cloud'    "
   ]
  },
  {
   "cell_type": "code",
   "execution_count": null,
   "metadata": {},
   "outputs": [],
   "source": [
    "!ls"
   ]
  },
  {
   "cell_type": "code",
   "execution_count": null,
   "metadata": {},
   "outputs": [],
   "source": [
    "!docker build -f Dockerfile -t gcr.io/alekseyv-scalableai-dev/tf2-cpu.2-1 ./"
   ]
  },
  {
   "cell_type": "code",
   "execution_count": null,
   "metadata": {},
   "outputs": [
    {
     "name": "stdout",
     "output_type": "stream",
     "text": [
      "Converted 00_core.ipynb.\n",
      "Converted ai_platform_constants.ipynb.\n",
      "Converted ai_platform_runner.ipynb.\n",
      "Converted entry_point.ipynb.\n",
      "Converted index.ipynb.\n",
      "Converted kubernetes_runner.ipynb.\n",
      "Converted local_runner.ipynb.\n",
      "Converted sample_code.ipynb.\n",
      "Generating kubernetes YAML file:\n",
      "kind: Service\n",
      "apiVersion: v1\n",
      "metadata:\n",
      "  name: kubernetes-runner-train-docker-chief-0\n",
      "spec:\n",
      "  type: ClusterIP\n",
      "  clusterIP: None\n",
      "  selector:\n",
      "    job: kubernetes-runner-train-docker-chief-0\n",
      "  ports:\n",
      "  - port: 5000\n",
      "---\n",
      "kind: Pod\n",
      "apiVersion: v1\n",
      "metadata:\n",
      "  name: kubernetes-runner-train-docker-chief-0\n",
      "  labels:\n",
      "    job: kubernetes-runner-train-docker-chief-0\n",
      "  annotations:\n",
      "    tf-version.cloud-tpus.google.com: \"2.1\"\n",
      "spec:\n",
      "  hostNetwork: true\n",
      "  dnsPolicy: ClusterFirstWithHostNet\n",
      "  restartPolicy: Never\n",
      "\n",
      "  containers:\n",
      "  - name: gcp-runner-image\n",
      "    image: gcr.io/alekseyv-scalableai-dev/tf2-cpu.2-1\n",
      "    imagePullPolicy: Always\n",
      "\n",
      "    resources:\n",
      "      limits:\n",
      "\n",
      "        cpu: 3\n",
      "\n",
      "        memory: 12G\n",
      "\n",
      "\n",
      "\n",
      "    env:\n",
      "\n",
      "    - name: TF_CONFIG\n",
      "      value: \"{\n",
      "  \\\"cluster\\\": {\\\"chief\\\": [\\\"kubernetes-runner-train-docker-chief-0:5000\\\"]},\n",
      "  \\\"task\\\": {\n",
      "    \\\"type\\\":  \\\"chief\\\",\n",
      "    \\\"index\\\": 0\n",
      "  },\n",
      "  \\\"environment\\\": \\\"cloud\\\"\n",
      "}\"\n",
      "\n",
      "    ports:\n",
      "    - containerPort: 5000\n",
      "\n",
      "    command:\n",
      "    - \"python3\"\n",
      "    - \"-u\"\n",
      "    - \"-m\"\n",
      "    - \"gcp_runner.entry_point\"\n",
      "    - \"--module-name=gcp_runner.sample_code\"\n",
      "    - \"--function-name=some_function_to_run_on_cloud\"\n",
      "    - \"--job-dir=gs://alekseyv-scalableai-dev-criteo-model-bucket/test-job-dir\"\n",
      "---\n",
      "\n",
      "Deleting all resources on Kubernetes cluster:\n",
      "kubectl delete namespace kubernetes-runner-namespace\n",
      "namespace \"kubernetes-runner-namespace\" deleted\n",
      "Creating Kubernetes kubernetes-runner-namespace namespace:\n",
      "kubectl create namespace kubernetes-runner-namespace\n",
      "namespace/kubernetes-runner-namespace created\n",
      "Creating Kubernetes cluster:\n",
      "kubectl create -f /tmp/tmp9ikzoo80 --namespace=kubernetes-runner-namespace\n",
      "service/kubernetes-runner-train-docker-chief-0 created\n",
      "pod/kubernetes-runner-train-docker-chief-0 created\n",
      "Polling Kubernetes logs:\n",
      "logs since 2020-03-26T23:29:59+00:00\n",
      "kubernetes-runner-train-docker-chief-0\t\tin entry point\n",
      "kubernetes-runner-train-docker-chief-0\t\trunning entrypoint function: gcp_runner.sample_code.some_function_to_run_on_cloud\n",
      "kubernetes-runner-train-docker-chief-0\t\trunning sample_code.some_function_to_run_on_cloud\n",
      "kubernetes-runner-train-docker-chief-0\t\tin main before sleep 1\n",
      "kubernetes-runner-train-docker-chief-0\t\tin main after sleep 2\n",
      "kubernetes-runner-train-docker-chief-0\t\tin main after sleep 3\n",
      "kubernetes-runner-train-docker-chief-0\t\tin main after sleep 4\n",
      "logs since 2020-03-26T23:31:00+00:00\n",
      "\u001b[31mNo resources found in default namespace.\u001b[0m\n",
      "logs since 2020-03-26T23:31:00+00:00\n"
     ]
    }
   ],
   "source": [
    "#hide\n",
    "import time\n",
    "\n",
    "from gcp_runner import core\n",
    "#import gcp_runner.kubernetes_runner\n",
    "\n",
    "core.export_and_reload_all()\n",
    "\n",
    "#gcp_runner.run_local.run_python(some_function_to_run_on_cloud)\n",
    "\n",
    "# gcp_runner.run_local.run_docker(\n",
    "#     some_function_to_run_on_cloud, \n",
    "#     'gcr.io/deeplearning-platform-release/tf2-cpu.2-1')\n",
    "\n",
    "# gcp_runner.local_runner.run_on_ai_platform(\n",
    "#     some_function_to_run_on_cloud, \n",
    "#     'job-dir')\n",
    "\n",
    "# need to put package to docker container\n",
    "# gcp_runner.ai_platform_runner.run_docker_image(\n",
    "#     some_function_to_run_on_cloud,\n",
    "#     'gs://alekseyv-scalableai-dev-criteo-model-bucket/test-job-dir',\n",
    "#     build_docker_file='Dockerfile',\n",
    "#     master_image_uri='gcr.io/alekseyv-scalableai-dev/tf2-cpu.2-1')\n",
    "\n",
    "# gcp_runner.ai_platform_runner.run_package(\n",
    "#     some_function_to_run_on_cloud,\n",
    "#     'gs://alekseyv-scalableai-dev-criteo-model-bucket/test-job-dir')\n",
    "\n",
    "#build_docker_file='Dockerfile',\n",
    "\n",
    "\n",
    "gcp_runner.kubernetes_runner.run_docker_image(\n",
    "    some_function_to_run_on_cloud,\n",
    "    'gs://alekseyv-scalableai-dev-criteo-model-bucket/test-job-dir',\n",
    "    image_uri='gcr.io/alekseyv-scalableai-dev/tf2-cpu.2-1')"
   ]
  },
  {
   "cell_type": "code",
   "execution_count": null,
   "metadata": {},
   "outputs": [],
   "source": [
    "from nbdev.export import *\n",
    "notebook2script()"
   ]
  }
 ],
 "metadata": {
  "kernelspec": {
   "display_name": "Python 3.7.5 64-bit",
   "language": "python",
   "name": "python37564bitc34665d47f6a46efaf2c998849165367"
  },
  "language_info": {
   "codemirror_mode": {
    "name": "ipython",
    "version": 3
   },
   "file_extension": ".py",
   "mimetype": "text/x-python",
   "name": "python",
   "nbconvert_exporter": "python",
   "pygments_lexer": "ipython3",
   "version": "3.7.5"
  }
 },
 "nbformat": 4,
 "nbformat_minor": 4
}
